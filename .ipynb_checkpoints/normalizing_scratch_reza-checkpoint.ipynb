{
 "cells": [
  {
   "cell_type": "code",
   "execution_count": 1,
   "metadata": {},
   "outputs": [
    {
     "ename": "ImportError",
     "evalue": "cannot import name 'nonlinear_learning_library'",
     "output_type": "error",
     "traceback": [
      "\u001b[0;31m---------------------------------------------------------------------------\u001b[0m",
      "\u001b[0;31mImportError\u001b[0m                               Traceback (most recent call last)",
      "\u001b[0;32m<ipython-input-1-8b41acef4511>\u001b[0m in \u001b[0;36m<module>\u001b[0;34m()\u001b[0m\n\u001b[1;32m     17\u001b[0m \u001b[0;34m\u001b[0m\u001b[0m\n\u001b[1;32m     18\u001b[0m \u001b[0;31m# import custom files\u001b[0m\u001b[0;34m\u001b[0m\u001b[0;34m\u001b[0m\u001b[0m\n\u001b[0;32m---> 19\u001b[0;31m \u001b[0;32mfrom\u001b[0m \u001b[0mmlrefined_libraries\u001b[0m \u001b[0;32mimport\u001b[0m \u001b[0mnonlinear_learning_library\u001b[0m \u001b[0;32mas\u001b[0m \u001b[0mnonlib\u001b[0m\u001b[0;34m\u001b[0m\u001b[0m\n\u001b[0m\u001b[1;32m     20\u001b[0m \u001b[0;32mfrom\u001b[0m \u001b[0mmlrefined_libraries\u001b[0m \u001b[0;32mimport\u001b[0m \u001b[0msuperlearn_library\u001b[0m \u001b[0;32mas\u001b[0m \u001b[0msuperlearn\u001b[0m\u001b[0;34m\u001b[0m\u001b[0m\n\u001b[1;32m     21\u001b[0m \u001b[0;34m\u001b[0m\u001b[0m\n",
      "\u001b[0;31mImportError\u001b[0m: cannot import name 'nonlinear_learning_library'"
     ]
    }
   ],
   "source": [
    "# run this cell to import all necessary libraries for the notebook experiments\n",
    "from mpl_toolkits.mplot3d import Axes3D\n",
    "from matplotlib import gridspec\n",
    "\n",
    "# imports from custom library\n",
    "import sys\n",
    "sys.path.append('../')\n",
    "\n",
    "import matplotlib.pyplot as plt\n",
    "import autograd.numpy as np\n",
    "from autograd.util import flatten_func\n",
    "from autograd import grad as compute_grad   # The only autograd function you may ever need\n",
    "\n",
    "import math\n",
    "import pandas as pd\n",
    "import copy\n",
    "\n",
    "# import custom files\n",
    "from mlrefined_libraries import nonlinear_learning_library as nonlib\n",
    "from mlrefined_libraries import superlearn_library as superlearn\n",
    "\n",
    "# this is needed to compensate for %matplotl+ib notebook's tendancy to blow up images when plotted inline\n",
    "from matplotlib import rcParams\n",
    "rcParams['figure.autolayout'] = True\n",
    "import contour_run_comparison\n",
    "\n",
    "%matplotlib notebook\n",
    "%load_ext autoreload\n",
    "%autoreload 2"
   ]
  },
  {
   "cell_type": "code",
   "execution_count": 2,
   "metadata": {
    "collapsed": true
   },
   "outputs": [],
   "source": [
    "# compare cost to counting\n",
    "def compare_regression_histories(histories,cost_func):\n",
    "    ##### setup figure to plot #####\n",
    "    # initialize figure\n",
    "    fig = plt.figure(figsize = (9,3))\n",
    "\n",
    "    # create subplot with 3 panels, plot input function in center plot\n",
    "    gs = gridspec.GridSpec(1, 1) \n",
    "    ax1 = plt.subplot(gs[0]); \n",
    "        \n",
    "    #### compute each cost ###\n",
    "    cost_vals = []         # cost evaluations\n",
    "    \n",
    "    # run through weights, evaluate classification and counting costs, record\n",
    "    c = 1\n",
    "    for history in histories:\n",
    "        cost_vals = []\n",
    "        for weight in history:\n",
    "            ### record softmax cost evaluation\n",
    "            cost = cost_func(weight)\n",
    "            cost_vals.append(cost)\n",
    "        \n",
    "        # plot both classification and counting cost histories\n",
    "        ax1.plot(cost_vals,label = 'run ' + str(c),linewidth = 4*(0.8)**(c))\n",
    "        c += 1\n",
    "        \n",
    "    ax1.set_title('MSE')\n",
    "    plt.legend(loc='upper right')\n",
    "    plt.show()"
   ]
  },
  {
   "cell_type": "markdown",
   "metadata": {},
   "source": [
    "# TESTBED"
   ]
  },
  {
   "cell_type": "code",
   "execution_count": 3,
   "metadata": {
    "collapsed": true
   },
   "outputs": [],
   "source": [
    "# gradient descent function\n",
    "def gradient_descent(g,w,alpha,max_its,beta,version):    \n",
    "    # flatten function mom\n",
    "    g_flat, unflatten, w = flatten_func(g, w)\n",
    "    grad = compute_grad(g_flat)\n",
    "\n",
    "    # record history\n",
    "    w_hist=[]\n",
    "    w_hist.append(unflatten(w))\n",
    "\n",
    "    # start gradient descent loop\n",
    "    z = np.zeros((np.shape(w)))      # momentum term\n",
    "    \n",
    "    for k in range(max_its):   \n",
    "        # plug in value into func and derivative\n",
    "        grad_eval = grad(w)\n",
    "        grad_eval.shape = np.shape(w)\n",
    "\n",
    "        ### normalized or unnormalized descent step? ###\n",
    "        if version == 'normalized':\n",
    "            grad_norm = np.linalg.norm(grad_eval)\n",
    "            if grad_norm == 0:\n",
    "                grad_norm += 10**-6*np.sign(2*np.random.rand(1) - 1)\n",
    "            grad_eval /= grad_norm\n",
    "\n",
    "        # take descent step with momentum\n",
    "        z = beta*z + grad_eval\n",
    "        w = w - alpha*z\n",
    "\n",
    "        # record weight update\n",
    "        w_hist.append(unflatten(w))     \n",
    "\n",
    "    return w_hist"
   ]
  },
  {
   "cell_type": "markdown",
   "metadata": {},
   "source": [
    "# Convex polynomial sin fitting"
   ]
  },
  {
   "cell_type": "code",
   "execution_count": 4,
   "metadata": {},
   "outputs": [
    {
     "data": {
      "image/png": "[encoded data removed]",
      "text/plain": [
       "<matplotlib.figure.Figure at 0x110387828>"
      ]
     },
     "metadata": {},
     "output_type": "display_data"
    }
   ],
   "source": [
    "# make a random dataset of points, where one feature is way out of scale with the other\n",
    "num_pts = 100\n",
    "x = np.random.rand(num_pts,1)\n",
    "\n",
    "f1 = lambda x: 3*np.sin(10*x)\n",
    "f2 = lambda x: 20*x\n",
    "\n",
    "# compute feature transformed data\n",
    "f1_vals = [f1(v) for v in x]\n",
    "f1_vals = np.asarray(f1_vals)\n",
    "\n",
    "f2_vals = [f2(v) for v in x]\n",
    "f2_vals = np.asarray(f2_vals)\n",
    "\n",
    "y = copy.deepcopy(f1_vals) + copy.deepcopy(f2_vals)\n",
    "\n",
    "# # compute feature transformed data\n",
    "# f1_mean = np.mean(f1_vals)\n",
    "# f1_std = np.std(f1_vals)\n",
    "# f1_vals = [(v - f1_mean)/f1_std for v in f1_vals]\n",
    "# f1_vals = np.asarray(f1_vals)\n",
    "\n",
    "# f2_mean = np.mean(f2_vals)\n",
    "# f2_std = np.std(f2_vals)\n",
    "# f2_vals = [(v - f2_mean)/f2_std for v in f2_vals]\n",
    "# f2_vals = np.asarray(f2_vals)\n",
    "\n",
    "\n",
    "# create figure and plot data\n",
    "fig, axs = plt.subplots(1, 2, figsize=(6,3))\n",
    "axs[0].scatter(x,y,color = 'k',edgecolor = 'w')\n",
    "axs[1].scatter(f1_vals,f2_vals,color = 'k',edgecolor = 'w')\n",
    "\n",
    "plt.show()"
   ]
  },
  {
   "cell_type": "code",
   "execution_count": 5,
   "metadata": {
    "collapsed": true
   },
   "outputs": [],
   "source": [
    "# least squares function\n",
    "f = np.concatenate((f1_vals,f2_vals),axis=1)\n",
    "least_squares = lambda w: np.sum((np.dot(f,w) - y)**2)"
   ]
  },
  {
   "cell_type": "code",
   "execution_count": 6,
   "metadata": {},
   "outputs": [
    {
     "data": {
      "image/png": "[encoded data removed]",
      "text/plain": [
       "<matplotlib.figure.Figure at 0x1110101d0>"
      ]
     },
     "metadata": {},
     "output_type": "display_data"
    }
   ],
   "source": [
    "alpha = 10**(-5)\n",
    "max_its = 400\n",
    "w_init = np.zeros((2,1))\n",
    "w_init[0] = -1.5\n",
    "w_init[1] = 1.5\n",
    "\n",
    "# use momentum with beta = 0\n",
    "beta = 0\n",
    "weight_history_1 = gradient_descent(least_squares,w_init,alpha,max_its,beta,version = 'unnormalized')\n",
    "\n",
    "histories = [weight_history_1]\n",
    "compare_regression_histories(histories,least_squares)"
   ]
  },
  {
   "cell_type": "code",
   "execution_count": 7,
   "metadata": {},
   "outputs": [
    {
     "data": {
      "image/png": "[encoded data removed]",
      "text/plain": [
       "<matplotlib.figure.Figure at 0x11456e438>"
      ]
     },
     "metadata": {},
     "output_type": "display_data"
    }
   ],
   "source": [
    "# create figure and plot data\n",
    "fig, ax = plt.subplots(1, 1, figsize=(6,3))\n",
    "ax.scatter(x,y,color = 'k',edgecolor = 'w')\n",
    "\n",
    "# make fits\n",
    "def predict(x,w):\n",
    "    val = w[0]*f1(x) + w[1]*f2(x)\n",
    "    return val\n",
    "\n",
    "# produce curve\n",
    "x_vals = np.linspace(min(x),max(x),200)\n",
    "\n",
    "w1 = weight_history_1[-1]\n",
    "y_vals = [predict(v,w1) for v in x_vals]\n",
    "\n",
    "# plot it\n",
    "ax.plot(x_vals,y_vals,color = 'blue')\n",
    "plt.show()"
   ]
  },
  {
   "cell_type": "markdown",
   "metadata": {},
   "source": [
    "# normed out"
   ]
  },
  {
   "cell_type": "code",
   "execution_count": 8,
   "metadata": {
    "collapsed": true
   },
   "outputs": [],
   "source": [
    "# compute feature transformed data\n",
    "f1_mean = np.mean(copy.deepcopy(f1_vals))\n",
    "f1_std =  np.std(copy.deepcopy(f1_vals))\n",
    "f2_mean = np.mean(copy.deepcopy(f2_vals))\n",
    "f2_std =  np.std(copy.deepcopy(f2_vals))\n",
    "\n",
    "# make updated transforms - with mean and std subtraction\n",
    "\n",
    "f1 = lambda x: 3*np.sin(10*x)\n",
    "f2 = lambda x: 20*x\n",
    "\n",
    "def f1_normed(x):\n",
    "    val = (3*np.sin(10*x)  - f1_mean)/f1_std\n",
    "    return val\n",
    "\n",
    "def f2_normed(x):\n",
    "    val = (20*x  - f2_mean)/f2_std\n",
    "    return val\n",
    "\n",
    "f1_vals_normed = [f1_normed(v) for v in x]\n",
    "f1_vals_normed = np.asarray(f1_vals_normed)\n",
    "\n",
    "f2_vals_normed =  [f2_normed(v) for v in x]\n",
    "f2_vals_normed = np.asarray(f2_vals_normed)\n",
    "\n",
    "# least squares function\n",
    "\n",
    "least_squares3 = lambda w: np.sum((np.dot(np.concatenate((f1_vals_normed,f2_vals_normed),axis=1),w) - y)**2)\n",
    "\n",
    "# demo2 = coord_descent_plotter.Visualizer()\n",
    "# demo2.draw_setup(least_squares3,num_contours = 5,wmin = -6,wmax = 6)"
   ]
  },
  {
   "cell_type": "code",
   "execution_count": 9,
   "metadata": {},
   "outputs": [
    {
     "data": {
      "image/png": "[encoded data removed]",
      "text/plain": [
       "<matplotlib.figure.Figure at 0x110f8be80>"
      ]
     },
     "metadata": {},
     "output_type": "display_data"
    }
   ],
   "source": [
    "alpha = 10**(-3)\n",
    "max_its = 100\n",
    "w_init = np.zeros((2,1))\n",
    "w_init[0] = -1.5\n",
    "w_init[1] = 1.5\n",
    "\n",
    "# use momentum with beta = 0\n",
    "beta = 0\n",
    "weight_history_2 = gradient_descent(least_squares3,w_init,alpha,max_its,beta,version = 'unnormalized')\n",
    "\n",
    "histories = [weight_history_2]\n",
    "compare_regression_histories(histories,least_squares3)"
   ]
  },
  {
   "cell_type": "code",
   "execution_count": 10,
   "metadata": {},
   "outputs": [
    {
     "data": {
      "image/png": "[encoded data removed]",
      "text/plain": [
       "<matplotlib.figure.Figure at 0x114750940>"
      ]
     },
     "metadata": {},
     "output_type": "display_data"
    }
   ],
   "source": [
    "# create figure and plot data\n",
    "fig, ax = plt.subplots(1, 1, figsize=(6,3))\n",
    "ax.scatter(x,y,color = 'k',edgecolor = 'w')\n",
    "\n",
    "# make fit\n",
    "def predict(x,w):\n",
    "    val = w[0]*(f1_normed(x) +  f1_mean/f1_std) + w[1]*(f2_normed(x) + f2_mean/f2_std)\n",
    "    return val\n",
    "\n",
    "# produce curve\n",
    "x_vals = np.linspace(min(x),max(x),200)\n",
    "\n",
    "w2 = weight_history_2[-1]\n",
    "y_vals = [predict(v,w2) for v in x_vals]\n",
    "\n",
    "# plot it\n",
    "ax.plot(x_vals,y_vals,color = 'blue')\n",
    "plt.show()"
   ]
  },
  {
   "cell_type": "code",
   "execution_count": null,
   "metadata": {
    "collapsed": true
   },
   "outputs": [],
   "source": []
  },
  {
   "cell_type": "code",
   "execution_count": null,
   "metadata": {
    "collapsed": true
   },
   "outputs": [],
   "source": []
  }
 ],
 "metadata": {
  "kernelspec": {
   "display_name": "Python 3",
   "language": "python",
   "name": "python3"
  },
  "language_info": {
   "codemirror_mode": {
    "name": "ipython",
    "version": 3
   },
   "file_extension": ".py",
   "mimetype": "text/x-python",
   "name": "python",
   "nbconvert_exporter": "python",
   "pygments_lexer": "ipython3",
   "version": "3.5.0"
  },
  "toc": {
   "colors": {
    "hover_highlight": "#DAA520",
    "navigate_num": "#000000",
    "navigate_text": "#333333",
    "running_highlight": "#FF0000",
    "selected_highlight": "#FFD700",
    "sidebar_border": "#EEEEEE",
    "wrapper_background": "#FFFFFF"
   },
   "moveMenuLeft": true,
   "nav_menu": {
    "height": "103px",
    "width": "252px"
   },
   "navigate_menu": true,
   "number_sections": false,
   "sideBar": true,
   "threshold": 4,
   "toc_cell": false,
   "toc_section_display": "block",
   "toc_window_display": false,
   "widenNotebook": false
  },
  "widgets": {
   "application/vnd.jupyter.widget-state+json": {
    "state": {},
    "version_major": 1,
    "version_minor": 0
   }
  }
 },
 "nbformat": 4,
 "nbformat_minor": 2
}
