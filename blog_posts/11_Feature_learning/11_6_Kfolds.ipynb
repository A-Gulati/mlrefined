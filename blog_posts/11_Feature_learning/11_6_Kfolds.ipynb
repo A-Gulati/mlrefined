{
 "cells": [
  {
   "cell_type": "markdown",
   "metadata": {
    "collapsed": true,
    "slideshow": {
     "slide_type": "skip"
    }
   },
   "source": [
    "## Chapter 11: Principles of Feature Learning"
   ]
  },
  {
   "cell_type": "markdown",
   "metadata": {
    "slideshow": {
     "slide_type": "slide"
    }
   },
   "source": [
    "# 11.6 K-folds cross-validation"
   ]
  },
  {
   "cell_type": "markdown",
   "metadata": {},
   "source": [
    "In this Section we detail a twist on the notion of ensembling called K-fold cross-validation, that is often applied when human interpretability of a final model is of significant importance.  While ensembling often provides a better fitting averaged predictor that avoids the potential pitfalls of any individual cross-validated model, *human-interpertability* is typically lost as the final model is an average of many potentially very different nonlinearities (stumps / tree-based approximators are sometimes an exception to this general rule, as detailed in Section 15.2).  Instead of *averaging* a set of validation error minimizing models over many splits of the data, with K-folds cross-validation we choose a single model that has minimum *average validation error* over all splits of the data.  This produces a potentially less accurate final model, but one that is significantly simpler in form (than an ensembled model) which can be more easily human-interpreted.  As we will see, in speical applications K-folds is also used with *linear* modeling as well."
   ]
  },
  {
   "cell_type": "code",
   "execution_count": 1,
   "metadata": {},
   "outputs": [],
   "source": [
    "## This code cell will not be shown in the HTML version of this notebook\n",
    "# imports from custom library\n",
    "import sys\n",
    "sys.path.append('../../')\n",
    "from mlrefined_libraries import math_optimization_library as optlib\n",
    "from mlrefined_libraries import nonlinear_superlearn_library as nonlib\n",
    "from mlrefined_libraries import basics_library \n",
    "\n",
    "# demos for this notebook\n",
    "regress_plotter = nonlib.nonlinear_regression_demos_multiple_panels\n",
    "classif_plotter = nonlib.nonlinear_classification_visualizer_multiple_panels\n",
    "static_plotter = optlib.static_plotter.Visualizer()\n",
    "basic_runner = nonlib.basic_runner\n",
    "classif_plotter_crossval = nonlib.crossval_classification_visualizer\n",
    "datapath = '../../mlrefined_datasets/nonlinear_superlearn_datasets/'\n",
    "\n",
    "# import autograd functionality to bulid function's properly for optimizers\n",
    "import autograd.numpy as np\n",
    "\n",
    "# import timer\n",
    "from datetime import datetime \n",
    "import copy\n",
    "import math\n",
    "\n",
    "# this is needed to compensate for %matplotlib notebook's tendancy to blow up images when plotted inline\n",
    "%matplotlib notebook\n",
    "from matplotlib import rcParams\n",
    "rcParams['figure.autolayout'] = True\n",
    "\n",
    "%load_ext autoreload\n",
    "%autoreload 2"
   ]
  },
  {
   "cell_type": "markdown",
   "metadata": {},
   "source": [
    "## 11.6.1  The K-Folds cross-validation procedure"
   ]
  },
  {
   "cell_type": "markdown",
   "metadata": {},
   "source": [
    "*K-folds cross-validation* is a method for determining robust cross-validated models via an ensembling-like procedure that constrains the complexity of the final model so that it is more human-interpretable.  Instead of *averaging* a group of cross-validated models, each of which achieves a minimum validation over over a random training-validation split of the data, with K-folds cross-validation we choose a single final model that achieves the *lowest average validation error* over all of the splits.  By selecting a *single model* to represent the entire dataset - as opposed to an *average* of different models as is done with ensembling - we make it easier to human-interpret the selected model.  \n",
    "\n",
    "Of course the desire for any nonlinear model to be interpretable means that its fundamental building blocks - universal approximators of a certain type - need be interpretable as well.  Neural networks - for example - are almost never human interpretable while kernels (most commonly polynomials) and tree-based approximators (commonly stumps) can be interpreted depending on the problem at hand.  Thus the latter two types of universal approximators are more commonly employed with the K-folds technique."
   ]
  },
  {
   "cell_type": "markdown",
   "metadata": {},
   "source": [
    "To further simplify the final outcome of this procedure instead of using completely random training-validation splits, as done when ensembling, we split the data randomly into a set of $K$ non-overlapping pieces.  Here the original data is represented as the entire circular mass (top left) is split into $K=3$ non-overlapping sets (bottom row).  We then cylce through $K$ training-validation splits of the data that consist of $K-1$ of these pieces as training, with the final portion as validation.  This allows for each point in the dataset to belong to a validation set precisely one time.  Each such split is referred to as a 'fold', of which there are $K$ in total, hence the name 'K-folds'.  On each fold / training-validation instance we cross-validate the *same set of models* and record the validation score of each.  Afterwards we choose the single best model that - on average - produced the lowest validation error and *re-tune its parameters over the entire dataset*. "
   ]
  },
  {
   "cell_type": "markdown",
   "metadata": {},
   "source": [
    "<tr>\n",
    "<td>\n",
    "  <img src= '../../mlrefined_images/nonlinear_superlearn_images/kfold_CV_diagram.png' width=\"70%\" height=\"70%\" alt=\"\"/>\n",
    "</td>\n",
    "</tr>"
   ]
  },
  {
   "cell_type": "markdown",
   "metadata": {},
   "source": [
    "<figure>\n",
    " <figcaption> <strong>Figure 1:</strong> <em> \n",
    "Schematic illustration of K-folds cross-validation for $K=3$. The original data shown here as the entire circular mass (top left) is split into $K$ non-overlapping sets.  Each of these sets is referred to as a 'fold', and in each instance we keep a different portion of the split data validation while merging the remaining $K-1$ pieces as training.  We perform cross-validation *with the same set of models* on each of the $K$ folds (bottom), afterwards choosing the single model with the lowest *average* validation error.\n",
    "</em>\n",
    "</figcaption>\n",
    "</figure>"
   ]
  },
  {
   "cell_type": "markdown",
   "metadata": {},
   "source": [
    "## 11.6.1  K-folds and nonlinear modeling"
   ]
  },
  {
   "cell_type": "markdown",
   "metadata": {},
   "source": [
    "Being a more restricted form of ensembling, K-folds can produce a less accurate nonlinear models for general learning problems.  However when motivations like human-interpretability are at play - often the motivator for using K-folds in the context of nonlinear modeling - they often overshadow performance.  This is somewhat analagous to the story of feature selection detailed in Sections 9.5 - 9.6, where human interpretability is the guiding motivator (and not simply model effectiveness).  In fact - as we will see below - the notion of feature selection and K-folds cross-validation indeed intersect in certain applications."
   ]
  },
  {
   "cell_type": "markdown",
   "metadata": {},
   "source": [
    "#### <span style=\"color:#a50e3e;\">Example 1. </span>  Galileo example"
   ]
  },
  {
   "cell_type": "markdown",
   "metadata": {},
   "source": [
    "In the Figure below we show how using $K=P$ fold cross-validation (since we have only $P=6$ data points intuition suggests, that we use a large value for $K$), sometimes referred to as *leave-one-out K-folds cross -validation*, allows us to recover precisely the quadratic fit Galileo made by eye. Note that by choosing $K=P$ this means that every data point will take a turn being the testing set. Here we search over the polynomial basis features of degree $M=1...6$ since they are not only interpretable, but are appropriate for data glenaed from physical experiments (which often trace out smooth rules). While not all of the hold-out models over the $6$ folds fit the data well, the average k-folds result is indeed the $M^{\\star}=2$ quadratic polynomial fit originally proposed by Galileo."
   ]
  },
  {
   "cell_type": "code",
   "execution_count": 2,
   "metadata": {},
   "outputs": [
    {
     "data": {
      "image/png": "[encoded data removed]",
      "text/plain": [
       "<Figure size 648x432 with 7 Axes>"
      ]
     },
     "metadata": {},
     "output_type": "display_data"
    }
   ],
   "source": [
    "# This code cell will not be shown in the HTML version of this notebook\n",
    "# import data\n",
    "csvname_1 = datapath + 'galileo_ramp_data.csv'\n",
    "\n",
    "data = np.loadtxt(csvname_1,delimiter = ',')\n",
    "x = copy.deepcopy(data[:-1,:])\n",
    "y = copy.deepcopy(data[-1:,:] )\n",
    "\n",
    "### container for outer loop - contains best model per split ###\n",
    "best_individual_models = []\n",
    "best_degs = []\n",
    "num_pts = np.size(y)\n",
    "num_splits = num_pts\n",
    "top_degree = 10\n",
    "all_val_costs = []\n",
    "\n",
    "### run inner loop - one split ###\n",
    "for s in range(num_splits):\n",
    "    #### outer loop - make a run over one split of the data ####\n",
    "    runs = []\n",
    "    w = 0\n",
    "    for j in range(1,top_degree+1):\n",
    "        # initialize with input/output data\n",
    "        mylib1 = nonlib.reg_lib.super_setup.Setup(x,y)\n",
    "\n",
    "        # perform preprocessing step(s) - especially input normalization\n",
    "        mylib1.preprocessing_steps(normalizer = 'standard')\n",
    "        \n",
    "        # generate indices for training set\n",
    "        train_inds = np.arange(num_pts)\n",
    "\n",
    "        # remove validation index\n",
    "        train_inds = np.delete(train_inds, s)\n",
    "        valid_inds = np.array([s])\n",
    "\n",
    "        # inject into input / output\n",
    "        mylib1.train_inds = train_inds\n",
    "        mylib1.x_train = mylib1.x[:,train_inds]\n",
    "        mylib1.y_train = mylib1.y[:,train_inds]\n",
    "\n",
    "        mylib1.valid_inds = valid_inds\n",
    "        mylib1.x_valid = mylib1.x[:,valid_inds]\n",
    "        mylib1.y_valid = mylib1.y[:,valid_inds]\n",
    " \n",
    "        # choose cost\n",
    "        mylib1.choose_cost(name = 'least_squares')\n",
    "\n",
    "        # choose dimensions of fully connected multilayer perceptron layers\n",
    "        mylib1.choose_features(name = 'polys',degree = j)\n",
    "\n",
    "        # fit\n",
    "        mylib1.fit(algo = 'newtons_method',max_its = 1,verbose = False)\n",
    "\n",
    "        # add model to list\n",
    "        runs.append(copy.deepcopy(mylib1))\n",
    "        \n",
    "    ### keep lowest validation model from this run ###\n",
    "    val_costs = [runs[i].valid_cost_histories[0][1] for i in range(top_degree)]\n",
    "    \n",
    "    # determine best model\n",
    "    min_ind = np.argmin(val_costs) \n",
    "    best_degs.append(min_ind+1)\n",
    "    min_val = val_costs[min_ind]\n",
    "    best_model = runs[min_ind]\n",
    "\n",
    "    # store \n",
    "    best_individual_models.append(copy.deepcopy(best_model))\n",
    "    all_val_costs.append(val_costs)\n",
    "    \n",
    "# determine best overall model\n",
    "all_val_costs = np.array(all_val_costs)\n",
    "all_val_costs = all_val_costs[:,:,0]\n",
    "mean_val_costs = np.mean(all_val_costs,0)\n",
    "ind = np.argmin(mean_val_costs) + 1\n",
    "\n",
    "### retrain best overall model on entire dataset ####\n",
    "# initialize with input/output data\n",
    "mylib1 = nonlib.reg_lib.super_setup.Setup(x,y)\n",
    "\n",
    "# perform preprocessing step(s) - especially input normalization\n",
    "mylib1.preprocessing_steps(normalizer = 'standard')\n",
    "\n",
    "# generate indices for training set\n",
    "train_inds = np.arange(num_pts)\n",
    "\n",
    "# inject into input / output\n",
    "mylib1.train_inds = train_inds\n",
    "mylib1.x_train = mylib1.x[:,train_inds]\n",
    "mylib1.y_train = mylib1.y[:,train_inds]\n",
    "\n",
    "mylib1.valid_inds = []\n",
    "mylib1.x_valid = np.array([])\n",
    "mylib1.y_valid = np.array([])\n",
    "\n",
    "# choose cost\n",
    "mylib1.choose_cost(name = 'least_squares')\n",
    "\n",
    "# choose dimensions of fully connected multilayer perceptron layers\n",
    "mylib1.choose_features(name = 'polys',degree = ind)\n",
    "\n",
    "# fit\n",
    "mylib1.fit(algo = 'newtons_method',max_its = 1,verbose = False)\n",
    "\n",
    "# plot each model individually, as well as the median model\n",
    "demo1 = nonlib.kfolds_regression_visualizers.Visualizer(csvname_1)\n",
    "demo1.show_runs(best_individual_models,mylib1)"
   ]
  },
  {
   "cell_type": "markdown",
   "metadata": {
    "collapsed": true
   },
   "source": [
    "## 11.6.2  K-folds and high dimensional linear modeling"
   ]
  },
  {
   "cell_type": "markdown",
   "metadata": {},
   "source": [
    "Suppose for a moment we have a high capacity model which enable several kinds of overfitting behavior for a nonlinear regression datasets - with each overfitting provided different settings of the linear combination weights of the model (suppose any internal parameters of its features are fixed).  We illustrate such a scenario in the left panel below, where two settings of such a model provide two distinct overfitting predictors for a generic nonlinear regression dataset.   As we learned in Section 10.1, any *nonlinear model* in the original space of a regression dataset corresponds to a *linear model* in the transformed feature space (i.e., the space where each individual input axis is given by one of the chosen nonlinear feature).  Since our model easily overfits the original data, in the transformed feature space our data lies along a *linear subspace* that can be perfectly fit using many different hyperplanes.  Indeed the two nonlinear overfits shown in the left panel correspond one-to-one with the two linear fits in the transformed feature space - illustrated figuratively in the right panel of the figure.  In other words, a severely overfitting high capacity *nonlinear model* in the original regression space is severely overfitting high capacity *linear model* in the transformed feature space feature.  This fact holds regardless of the problem type as well (e.g., for classification too)."
   ]
  },
  {
   "cell_type": "markdown",
   "metadata": {},
   "source": [
    "<img src= '../../mlrefined_images/nonlinear_superlearn_images/overfitting_linear.png' width=\"100%\"/>"
   ]
  },
  {
   "cell_type": "markdown",
   "metadata": {},
   "source": [
    "The general scenario detailed in the right panel above is precisely where we *begin* when using *linear models* with very *small dataset* that have *high input dimension* (that is small dataset size $P$ and large input dimension $N$): in such instances even a linear model has extremely high capacity and can easily overfit (virtually ruling out the use of more complicated nonlinear models).  We cannot get much simpler / lower capacity in terms of modeling, as a linear model is typically the simplest one we can use for learning, thus even in such high dimensional scenarios (where it has extremely high capacity) we must employ it.  \n",
    "\n",
    "In order to properly tune the parameters of a high capacity model we intuitively turn to a cross-validation technique designed specifically to temper high capacity models in general: *regularization* (as described in Section 11.4).  Given the small amount of data at play to determine the best setting of the regularization parameter K-folds is commonly employed determine the proper regluarization parameter value and ultimately the parameters of the linear model.\n",
    "\n",
    "This scenario - as we will discuss in examples below - often provides an interesting point of intersection with the notion of *feature selection via regularization* detailed in 9.6.  Employing the $\\ell_1$ regularizer we can blunt the capacity of our high capacity linear model *while simultaneously* selecting important input features, making human-interpretability possible."
   ]
  },
  {
   "cell_type": "markdown",
   "metadata": {},
   "source": [
    "#### <span style=\"color:#a50e3e;\">Example 2. </span>  Gene expression data "
   ]
  },
  {
   "cell_type": "markdown",
   "metadata": {},
   "source": [
    "Genome-wide association studies (GWAS) aim at understanding the connections between tens of thousands of genetic markers, taken from across the human genome of several subjects, with diseases like high blood pressure/cholesterol, heart disease, diabetes, various forms of cancer, and many others. These studies typically produce small datasets of high dimensional (input) genetic information taken from a  sample of patients with a given affliction and a control group of non-afflicted.  Thus regularization based cross-validation a useful tool for learning meaningful (linear) models for such data.  Moreover using a feature-selecting regularizer like the $\\ell_1$ norm (as detailed in Section 9.6) can help researchers identfiy the handful of genes critical to affliction, which can both improve our undetstanding of disease and perhaps provoke development of gene-targeted therapies."
   ]
  },
  {
   "cell_type": "markdown",
   "metadata": {},
   "source": [
    "<tr>\n",
    "<td>\n",
    "  <img src= '../../mlrefined_images/nonlinear_superlearn_images/GWA.png' width=\"100%\" height=\"70%\" alt=\"\"/>\n",
    "</td>\n",
    "</tr>"
   ]
  },
  {
   "cell_type": "markdown",
   "metadata": {},
   "source": [
    "- K = 10 folds cross validation, using $\\ell_1$ regularizer"
   ]
  },
  {
   "cell_type": "code",
   "execution_count": 3,
   "metadata": {},
   "outputs": [],
   "source": [
    "import time\n",
    "from IPython.display import clear_output\n",
    "\n",
    "# function for assigning each point in a dataset to one of K folds\n",
    "def assign_to_folds(L,K):\n",
    "    # split data into k equal (as possible) sized sets\n",
    "    order = np.random.permutation(L)\n",
    "    c = np.ones((L,1))\n",
    "    L = int(np.round((1/K)*L))\n",
    "    for s in np.arange(0,K-2):\n",
    "        c[order[s*L:(s+1)*L]] = s + 2\n",
    "    c[order[(K-1)*L:]] = K\n",
    "    return c\n",
    "\n",
    "# load in dataset\n",
    "csvname = datapath + 'new_gene_data.csv'\n",
    "data = np.loadtxt(csvname,delimiter = ',')\n",
    "x = data[:-1,:]\n",
    "y = data[-1:,:] \n",
    "\n",
    "# assign data to K folds\n",
    "K = 10\n",
    "num_pts = y.size\n",
    "fold_nums = assign_to_folds(num_pts,K)\n",
    "lams = np.linspace(0,20,100)\n",
    "\n",
    "# loop over each fold and complete calculations\n",
    "all_train_counts = []\n",
    "all_valid_counts = []\n",
    "for k in range(K):\n",
    "    print ('running '  + str(k+1) + ' of ' + str(K) + ' rounds')\n",
    "    \n",
    "    # import lib\n",
    "    mylib = nonlib.kfolds_reg_lib.superlearn_setup.Setup(x,y)\n",
    "\n",
    "    # choose normalizer\n",
    "    mylib.choose_normalizer(name = 'standard')\n",
    "\n",
    "    # make training testing split\n",
    "    train_inds = np.argwhere(fold_nums != k)\n",
    "    train_inds = [v[0] for v in train_inds]\n",
    "    valid_inds = np.argwhere(fold_nums == k)\n",
    "    valid_inds = [v[0] for v in valid_inds]\n",
    "\n",
    "    # inject into input / output\n",
    "    mylib.train_inds = train_inds\n",
    "    mylib.x_train = mylib.x[:,train_inds]\n",
    "    mylib.y_train = mylib.y[:,train_inds]\n",
    "\n",
    "    mylib.valid_inds = valid_inds\n",
    "    mylib.x_valid = mylib.x[:,valid_inds]\n",
    "    mylib.y_valid = mylib.y[:,valid_inds]\n",
    "\n",
    "    # choose cost\n",
    "    mylib.choose_cost(cost_name = 'softmax',reg_name = 'L1')\n",
    "\n",
    "    # choose optimizer\n",
    "    mylib.choose_optimizer('gradient_descent',max_its=100,alpha_choice='diminishing')\n",
    "\n",
    "    # run regularization\n",
    "    mylib.tryout_lams(lams)\n",
    "    \n",
    "    # record counts\n",
    "    all_train_counts.append(copy.deepcopy(mylib.train_count_vals))\n",
    "    all_valid_counts.append(copy.deepcopy(mylib.valid_count_vals))\n",
    "\n",
    "print ('runs complete!')\n",
    "time.sleep(1.5)\n",
    "clear_output()\n",
    "\n",
    "# compute misclassifications totals\n",
    "all_train_counts = np.array(all_train_counts)\n",
    "train_totals = np.sum(all_train_counts,0)\n",
    "\n",
    "all_valid_counts = np.array(all_valid_counts)\n",
    "valid_totals = np.sum(all_valid_counts,0)\n",
    "\n",
    "best_valid_ind = np.where(valid_totals == valid_totals.min())[0][-1]\n",
    "best_lam = lams[best_valid_ind]\n",
    "\n",
    "### re-tune weights given optimal regularization parameter found via \n",
    "### k-folds cross-validation\n",
    "# import lib\n",
    "mylib2 = nonlib.kfolds_reg_lib.superlearn_setup.Setup(x,y)\n",
    "\n",
    "# choose normalizer\n",
    "mylib2.choose_normalizer(name = 'standard')\n",
    "\n",
    "# make training testing split\n",
    "train_inds = np.argwhere(fold_nums != -1)\n",
    "train_inds = [v[0] for v in train_inds]\n",
    "valid_inds = np.argwhere(fold_nums == -1)\n",
    "valid_inds = [v[0] for v in valid_inds]\n",
    "\n",
    "# inject into input / output\n",
    "mylib2.train_inds = train_inds\n",
    "mylib2.x_train = mylib2.x[:,train_inds]\n",
    "mylib2.y_train = mylib2.y[:,train_inds]\n",
    "\n",
    "mylib2.valid_inds = valid_inds\n",
    "mylib2.x_valid = mylib2.x[:,valid_inds]\n",
    "mylib2.y_valid = mylib2.y[:,valid_inds]\n",
    "\n",
    "# choose cost\n",
    "mylib2.choose_cost(cost_name = 'softmax',reg_name = 'L1')\n",
    "\n",
    "# choose optimizer\n",
    "mylib2.choose_optimizer('gradient_descent',max_its=200,alpha_choice='diminishing')\n",
    "\n",
    "# run regularization\n",
    "mylib2.tryout_lams(np.array([best_lam]))"
   ]
  },
  {
   "cell_type": "code",
   "execution_count": 4,
   "metadata": {},
   "outputs": [
    {
     "data": {
      "image/png": "[encoded data removed]",
      "text/plain": [
       "<Figure size 432x288 with 1 Axes>"
      ]
     },
     "metadata": {},
     "output_type": "display_data"
    }
   ],
   "source": [
    "# plot best weights from cross-validated run\n",
    "import matplotlib.pyplot as plt\n",
    "plt.plot(np.abs(mylib2.best_weights[1:]))\n",
    "plt.show()"
   ]
  },
  {
   "cell_type": "markdown",
   "metadata": {},
   "source": [
    "#### <span style=\"color:#a50e3e;\">Example 3. </span>  Brain scan "
   ]
  },
  {
   "cell_type": "markdown",
   "metadata": {
    "collapsed": true
   },
   "source": [
    "Paired with a classification algorithm, Functional Magnetic Resonance Imaging (fMRI) of the brain is an increasingly useful method for diagnosing neurological disorders such as Autism, Alzheimer's, and Attention Deficit Hyperactivity Disorder (ADHD). To perform classification a dataset is acquired consisting of statistically-based features extracted from fMRI brain scans of patients suffering from one such previously mentioned cognitive disorder, as well as individuals from a control group who are not afflicted. These fMRI brain scans capture neural activity patterns localized in different regions of the brain as patients perform simple activities such as tracking a small visual object.\n",
    "\n",
    "Neuroscientists believe that only a small number of active brain regions are involved in performing any given cognitive task. Therefore limiting the number of features allowed in the classification model, via sparse feature selection, is commonly done in order to produce high performing and human-interpretable results. Figure [fig:adhd-1] illustrates the result of applying a classification model with sparse feature selection to the problem of diagnosing patients with ADHD. The sparsely distributed regions of color represent activation areas uncovered by the learning algorithm which significantly distinguish between individuals with and without ADHD. "
   ]
  },
  {
   "cell_type": "markdown",
   "metadata": {},
   "source": [
    "<tr>\n",
    "<td>\n",
    "  <img src= '../../mlrefined_images/nonlinear_superlearn_images/brain.png' width=\"100%\" height=\"70%\" alt=\"\"/>\n",
    "</td>\n",
    "</tr>"
   ]
  }
 ],
 "metadata": {
  "kernelspec": {
   "display_name": "Python 3",
   "language": "python",
   "name": "python3"
  },
  "language_info": {
   "codemirror_mode": {
    "name": "ipython",
    "version": 3
   },
   "file_extension": ".py",
   "mimetype": "text/x-python",
   "name": "python",
   "nbconvert_exporter": "python",
   "pygments_lexer": "ipython3",
   "version": "3.6.5"
  },
  "toc": {
   "colors": {
    "hover_highlight": "#DAA520",
    "navigate_num": "#000000",
    "navigate_text": "#333333",
    "running_highlight": "#FF0000",
    "selected_highlight": "#FFD700",
    "sidebar_border": "#EEEEEE",
    "wrapper_background": "#FFFFFF"
   },
   "moveMenuLeft": true,
   "nav_menu": {
    "height": "160px",
    "width": "252px"
   },
   "navigate_menu": true,
   "number_sections": true,
   "sideBar": true,
   "threshold": 4,
   "toc_cell": false,
   "toc_section_display": "block",
   "toc_window_display": false,
   "widenNotebook": false
  }
 },
 "nbformat": 4,
 "nbformat_minor": 2
}
