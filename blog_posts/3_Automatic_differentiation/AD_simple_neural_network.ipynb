{
 "cells": [
  {
   "cell_type": "markdown",
   "metadata": {},
   "source": [
    "## Chapter 3: Derivatives and Automatic Differentiation"
   ]
  },
  {
   "cell_type": "markdown",
   "metadata": {},
   "source": [
    "#### <span style=\"color:#a50e3e;\">Example 2. </span> Computing the gradient of a multi-input function using the forward mode"
   ]
  },
  {
   "cell_type": "markdown",
   "metadata": {},
   "source": [
    "In this Example we illustrate how to compute the gradient of $\\text{tanh}\\left(w_4+w_3\\text{tanh}\\left(w_2+w_1\\right)\\right)$, a function with four input variables, using its computational graph shown below."
   ]
  },
  {
   "cell_type": "markdown",
   "metadata": {},
   "source": [
    "<p><img src=\"../../mlrefined_images/calculus_images/2layer_0.png\" width=\"75%\" height=\"auto\"></p>\n",
    "\n",
    "Our goal here is to compute $\\nabla \\, e=\\left[\n",
    "\\frac{\\partial}{\\partial w_{1}}e,\n",
    "\\frac{\\partial}{\\partial w_{2}}e,\n",
    "\\frac{\\partial}{\\partial w_{3}}e,\n",
    "\\frac{\\partial}{\\partial w_{4}}e\n",
    "\\right]$. "
   ]
  },
  {
   "cell_type": "markdown",
   "metadata": {},
   "source": [
    "Starting from node $a$, having nodes $w_1$ and $w_2$ as its children, we compute the partial derivatives of $a\\left(w_1,w_2\\right)=w_1+w_2$ with respect to all four input variables, giving\n",
    "\n",
    "\\begin{equation}\n",
    "\\frac{\\partial}{\\partial w_{1}}a = w_2\\\\\n",
    "\\frac{\\partial}{\\partial w_{2}}a = w_1\\\\\n",
    "\\frac{\\partial}{\\partial w_{3}}a = 0\\\\\n",
    "\\frac{\\partial}{\\partial w_{4}}a = 0\n",
    "\\end{equation}\n",
    "\n",
    "\n",
    "or, more compactly, $\\nabla \\, a=\\left[\n",
    "w_2,\n",
    "w_1,\n",
    "0,\n",
    "0\n",
    "\\right]$. \n",
    "\n",
    "<p><img src=\"../../mlrefined_images/calculus_images/2layer_1.png\" width=\"75%\" height=\"auto\"></p>"
   ]
  },
  {
   "cell_type": "markdown",
   "metadata": {},
   "source": [
    "Moving forward to the next parent node $b(a) = \\text{tanh}\\left(a\\right)$ we compute the partial derivative of $b$ with respect to all input variables\n",
    "\n",
    "\\begin{equation}\n",
    "\\frac{\\partial}{\\partial w_{1}}b = \\frac{\\partial}{\\partial a}b\\,\\frac{\\partial}{\\partial w_{1}}a=\\left(1-\\text{tanh}^2(a)\\right)w_2\\\\\n",
    "\\frac{\\partial}{\\partial w_{2}}b = \\frac{\\partial}{\\partial a}b\\,\\frac{\\partial}{\\partial w_{2}}a=\\left(1-\\text{tanh}^2(a)\\right)w_1\\\\\n",
    "\\frac{\\partial}{\\partial w_{3}}b = \\frac{\\partial}{\\partial a}b\\,\\frac{\\partial}{\\partial w_{3}}a=\\left(1-\\text{tanh}^2(a)\\right)\\times 0=0\\\\\n",
    "\\frac{\\partial}{\\partial w_{4}}b = \\frac{\\partial}{\\partial a}b\\,\\frac{\\partial}{\\partial w_{4}}a=\\left(1-\\text{tanh}^2(a)\\right)\\times 0=0\n",
    "\\end{equation}\n",
    "\n",
    "represented more compactly via $\\nabla \\, b=\\left[\n",
    "\\left(1-\\text{tanh}^2(a)\\right)w_2,\n",
    "\\left(1-\\text{tanh}^2(a)\\right)w_1,\n",
    "0,\n",
    "0\n",
    "\\right]$. \n",
    "\n",
    "<p><img src=\"../../mlrefined_images/calculus_images/2layer_2.png\" width=\"75%\" height=\"auto\"></p>"
   ]
  },
  {
   "cell_type": "markdown",
   "metadata": {},
   "source": [
    "Next, looking back at the graph, we see the next parent node is $c(b,w_3) = b\\,w_3$.  \n",
    "\n",
    "Writing out its partial derivatives with respect to $w_1$ through $w_4$ we have\n",
    "\n",
    "\n",
    "\\begin{equation}\n",
    "\\frac{\\partial}{\\partial w_{1}}c = \\frac{\\partial}{\\partial b}c\\,\\frac{\\partial}{\\partial w_{1}}b+\\frac{\\partial}{\\partial w_3}c\\,\\frac{\\partial}{\\partial w_{1}}w_3=w_3 \\times \\left(1-\\text{tanh}^2(a)\\right)w_2 + b \\times 0 = w_3 \\left(1-\\text{tanh}^2(a)\\right)w_2 \\\\\n",
    "\\frac{\\partial}{\\partial w_{2}}c = \\frac{\\partial}{\\partial b}c\\,\\frac{\\partial}{\\partial w_{2}}b+\\frac{\\partial}{\\partial w_3}c\\,\\frac{\\partial}{\\partial w_{2}}w_3= w_3 \\times \\left(1-\\text{tanh}^2(a)\\right)w_1 + b \\times 0 =w_3\\left(1-\\text{tanh}^2(a)\\right)w_1\\\\\n",
    "\\frac{\\partial}{\\partial w_{3}}c = \\frac{\\partial}{\\partial b}c\\,\\frac{\\partial}{\\partial w_{3}}b+\\frac{\\partial}{\\partial w_3}c\\,\\frac{\\partial}{\\partial w_{3}}w_3 = w_3 \\times 0 + b \\times 1 = b\\\\\n",
    "\\frac{\\partial}{\\partial w_{4}}c = \\frac{\\partial}{\\partial b}c\\,\\frac{\\partial}{\\partial w_{4}}b+\\frac{\\partial}{\\partial w_3}c\\,\\frac{\\partial}{\\partial w_{4}}w_3 = w_3 \\times 0 + b \\times 0 = 0 \n",
    "\\end{equation}\n",
    "\n",
    "or, put together, $\\nabla \\, c=\\left[\n",
    "w_3 \\left(1-\\text{tanh}^2(a)\\right)w_2,\n",
    "w_3\\left(1-\\text{tanh}^2(a)\\right)w_1,\n",
    "b,\n",
    "0\n",
    "\\right]$.  \n",
    "\n",
    "<p><img src=\"../../mlrefined_images/calculus_images/2layer_3.png\" width=\"75%\" height=\"auto\"></p>"
   ]
  },
  {
   "cell_type": "markdown",
   "metadata": {},
   "source": [
    "Next, we have $d(c,w_4) = c+w_4$, with its gradient computed as \n",
    "\n",
    "\\begin{equation}\n",
    "\\frac{\\partial}{\\partial w_{1}}d = \\frac{\\partial}{\\partial c}d\\,\\frac{\\partial}{\\partial w_{1}}c+\\frac{\\partial}{\\partial w_4}d\\,\\frac{\\partial}{\\partial w_{1}}w_4=1 \\times w_3 \\left(1-\\text{tanh}^2(a)\\right)w_2 + 1 \\times 0 = w_3 \\left(1-\\text{tanh}^2(a)\\right)w_2 \\\\\n",
    "\\frac{\\partial}{\\partial w_{2}}d = \\frac{\\partial}{\\partial c}d\\,\\frac{\\partial}{\\partial w_{2}}c+\\frac{\\partial}{\\partial w_4}d\\,\\frac{\\partial}{\\partial w_{2}}w_4= 1 \\times w_3 \\left(1-\\text{tanh}^2(a)\\right)w_1 + 1 \\times 0 =w_3\\left(1-\\text{tanh}^2(a)\\right)w_1\\\\\n",
    "\\frac{\\partial}{\\partial w_{3}}d = \\frac{\\partial}{\\partial c}d\\,\\frac{\\partial}{\\partial w_{3}}c+\\frac{\\partial}{\\partial w_4}d\\,\\frac{\\partial}{\\partial w_{3}}w_4 = 1 \\times b + 1 \\times 0 = b\\\\\n",
    "\\frac{\\partial}{\\partial w_{4}}d = \\frac{\\partial}{\\partial c}d\\,\\frac{\\partial}{\\partial w_{4}}c+\\frac{\\partial}{\\partial w_4}d\\,\\frac{\\partial}{\\partial w_{4}}w_4 = 1 \\times 0 + 1 \\times 1 = 1   \n",
    "\\end{equation}\n",
    "\n",
    "\n",
    "and written compactly as $\\nabla \\, d=\\left[\n",
    "w_3 \\left(1-\\text{tanh}^2(a)\\right)w_2,\n",
    "w_3\\left(1-\\text{tanh}^2(a)\\right)w_1,\n",
    "b,\n",
    "1\n",
    "\\right]$.  \n",
    "\n",
    "<p><img src=\"../../mlrefined_images/calculus_images/2layer_4.png\" width=\"75%\" height=\"auto\"></p>"
   ]
  },
  {
   "cell_type": "markdown",
   "metadata": {},
   "source": [
    "Finally, computing the gradient of the last parent node $e(d) = \\text{tanh}\\left(d\\right)$\n",
    "\n",
    "\n",
    "\\begin{equation}\n",
    "\\frac{\\partial}{\\partial w_{1}}e = \\frac{\\partial}{\\partial d}e\\,\\frac{\\partial}{\\partial w_{1}}d=\\left(1-\\text{tanh}^2(d)\\right)w_3 \\left(1-\\text{tanh}^2(a)\\right)w_2\\\\\n",
    "\\frac{\\partial}{\\partial w_{2}}e = \\frac{\\partial}{\\partial d}e\\,\\frac{\\partial}{\\partial w_{2}}d=\\left(1-\\text{tanh}^2(d)\\right)w_3\\left(1-\\text{tanh}^2(a)\\right)w_1\\\\\n",
    "\\frac{\\partial}{\\partial w_{3}}e = \\frac{\\partial}{\\partial d}e\\,\\frac{\\partial}{\\partial w_{3}}d=\\left(1-\\text{tanh}^2(d)\\right)b\\\\\n",
    "\\frac{\\partial}{\\partial w_{4}}e = \\frac{\\partial}{\\partial d}e\\,\\frac{\\partial}{\\partial w_{4}}d=\\left(1-\\text{tanh}^2(d)\\right)\n",
    "\\end{equation}\n",
    "\n",
    "<p><img src=\"../../mlrefined_images/calculus_images/2layer_5.png\" width=\"75%\" height=\"auto\"></p>"
   ]
  },
  {
   "cell_type": "markdown",
   "metadata": {},
   "source": [
    "Substituting $a=w_1+w_2$, $b=\\text{tanh}\\left(w_1+w_2\\right)$, and $d=w_4+w_3\\text{tanh}\\left(w_1+w_2\\right)$, we can write the final gradient in terms of the input variables as \n",
    "\n",
    "\\begin{equation}\n",
    "\\nabla \\, e=\\left[\n",
    "\\left(1-\\text{tanh}^2(w_4+w_3\\text{tanh}\\left(w_1+w_2\\right))\\right)w_3 \\left(1-\\text{tanh}^2(w_1+w_2)\\right)w_2,\n",
    "w_3\\left(1-\\text{tanh}^2(w_1+w_2)\\right)w_1,\n",
    "\\text{tanh}\\left(w_1+w_2\\right),\n",
    "1\n",
    "\\right]\n",
    "\\end{equation}"
   ]
  }
 ],
 "metadata": {
  "kernelspec": {
   "display_name": "Python 3",
   "language": "python",
   "name": "python3"
  },
  "language_info": {
   "codemirror_mode": {
    "name": "ipython",
    "version": 3
   },
   "file_extension": ".py",
   "mimetype": "text/x-python",
   "name": "python",
   "nbconvert_exporter": "python",
   "pygments_lexer": "ipython3",
   "version": "3.5.0"
  },
  "toc": {
   "colors": {
    "hover_highlight": "#DAA520",
    "navigate_num": "#000000",
    "navigate_text": "#333333",
    "running_highlight": "#FF0000",
    "selected_highlight": "#FFD700",
    "sidebar_border": "#EEEEEE",
    "wrapper_background": "#FFFFFF"
   },
   "moveMenuLeft": true,
   "nav_menu": {
    "height": "121px",
    "width": "252px"
   },
   "navigate_menu": true,
   "number_sections": false,
   "sideBar": true,
   "threshold": 4,
   "toc_cell": false,
   "toc_section_display": "block",
   "toc_window_display": false,
   "widenNotebook": false
  },
  "widgets": {
   "application/vnd.jupyter.widget-state+json": {
    "state": {},
    "version_major": 1,
    "version_minor": 0
   }
  }
 },
 "nbformat": 4,
 "nbformat_minor": 2
}
