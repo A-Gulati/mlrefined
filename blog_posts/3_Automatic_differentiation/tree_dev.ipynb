{
 "cells": [
  {
   "cell_type": "markdown",
   "metadata": {},
   "source": [
    "Great little tree maker in Python\n",
    "\n",
    "\n",
    "```http://anytree.readthedocs.io/en/latest/api/anytree.node.html```\n",
    "\n",
    "\n",
    "there are of course ways to do this just with a composition of dictionaries like those listed here\n",
    "\n",
    "https://stackoverflow.com/questions/2358045/how-can-i-implement-a-tree-in-python-are-there-any-built-in-data-structures-in"
   ]
  },
  {
   "cell_type": "code",
   "execution_count": 1,
   "metadata": {
    "collapsed": true
   },
   "outputs": [],
   "source": [
    "from anytree import AnyNode, RenderTree\n",
    "root = AnyNode(id=\"root\")\n",
    "s0 = AnyNode(id=\"sub0\", parent=root)\n",
    "s0b = AnyNode(id=\"sub0B\", parent=s0, foo=4, bar=109)\n",
    "s0a = AnyNode(id=\"sub0A\", parent=s0)\n",
    "s1 = AnyNode(id=\"sub1\", parent=root)\n",
    "s1a = AnyNode(id=\"sub1A\", parent=s1)\n",
    "s1b = AnyNode(id=\"sub1B\", parent=s1, bar=8)\n",
    "s1c = AnyNode(id=\"sub1C\", parent=s1)\n",
    "s1ca = AnyNode(id=\"sub1Ca\", parent=s1c)"
   ]
  },
  {
   "cell_type": "code",
   "execution_count": 2,
   "metadata": {},
   "outputs": [
    {
     "data": {
      "text/plain": [
       "AnyNode(id='root')"
      ]
     },
     "execution_count": 2,
     "metadata": {},
     "output_type": "execute_result"
    }
   ],
   "source": [
    "root"
   ]
  },
  {
   "cell_type": "code",
   "execution_count": 3,
   "metadata": {},
   "outputs": [
    {
     "name": "stdout",
     "output_type": "stream",
     "text": [
      "AnyNode(id='root')\n",
      "├── AnyNode(id='sub0')\n",
      "│   ├── AnyNode(bar=109, foo=4, id='sub0B')\n",
      "│   └── AnyNode(id='sub0A')\n",
      "└── AnyNode(id='sub1')\n",
      "    ├── AnyNode(id='sub1A')\n",
      "    ├── AnyNode(bar=8, id='sub1B')\n",
      "    └── AnyNode(id='sub1C')\n",
      "        └── AnyNode(id='sub1Ca')\n"
     ]
    }
   ],
   "source": [
    "print(RenderTree(root))"
   ]
  },
  {
   "cell_type": "code",
   "execution_count": null,
   "metadata": {
    "collapsed": true
   },
   "outputs": [],
   "source": []
  }
 ],
 "metadata": {
  "kernelspec": {
   "display_name": "Python 3",
   "language": "python",
   "name": "python3"
  },
  "language_info": {
   "codemirror_mode": {
    "name": "ipython",
    "version": 3
   },
   "file_extension": ".py",
   "mimetype": "text/x-python",
   "name": "python",
   "nbconvert_exporter": "python",
   "pygments_lexer": "ipython3",
   "version": "3.5.3"
  }
 },
 "nbformat": 4,
 "nbformat_minor": 2
}
