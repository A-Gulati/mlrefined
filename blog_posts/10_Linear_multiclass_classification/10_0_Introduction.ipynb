{
 "cells": [
  {
   "cell_type": "markdown",
   "metadata": {},
   "source": [
    "In the this and the following Section we discuss two popular generalizations of the two class framework discussed previously for multi-class classification - namely, *One-versus-All* and *multi-class logistic regression* (the latter of which is also referred to as *multi-class softmax classification* or *softmax regression*). For a dataset consisting of $C$ classes both schemes learn $C$ two-class linear classifiers - each of which distinguishes a single class from all others - fusing them together to create multi-class classifier. These two popular approaches fuse the $C$ linear classifiers together in essentially the same manner, differing only in how the individual classifiers are trained: in the One-versus-All scheme each classifier is trained independently from the others, while with multi-class logistic regression all are tuned simultaneously. Akin to say logistic regression versus support vector machines, both multi-class methods are commonly used and perform similarly in practice."
   ]
  }
 ],
 "metadata": {
  "kernelspec": {
   "display_name": "Python 3",
   "language": "python",
   "name": "python3"
  },
  "language_info": {
   "codemirror_mode": {
    "name": "ipython",
    "version": 3
   },
   "file_extension": ".py",
   "mimetype": "text/x-python",
   "name": "python",
   "nbconvert_exporter": "python",
   "pygments_lexer": "ipython3",
   "version": "3.5.3"
  }
 },
 "nbformat": 4,
 "nbformat_minor": 2
}
