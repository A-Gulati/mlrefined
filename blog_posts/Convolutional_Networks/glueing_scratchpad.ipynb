{
 "cells": [
  {
   "cell_type": "code",
   "execution_count": 1,
   "metadata": {
    "collapsed": true
   },
   "outputs": [],
   "source": [
    "# some standard imports\n",
    "import matplotlib.pyplot as plt\n",
    "import autograd.numpy as np\n",
    "from autograd import grad as compute_grad   \n",
    "from datetime import datetime \n",
    "\n",
    "#this is needed to compensate for matplotlib notebook's tendancy to blow up images when plotted inline\n",
    "%matplotlib notebook\n",
    "from matplotlib import rcParams\n",
    "rcParams['figure.autolayout'] = True\n",
    "\n",
    "%load_ext autoreload\n",
    "%autoreload 2"
   ]
  },
  {
   "cell_type": "markdown",
   "metadata": {},
   "source": [
    "# Gradient descent"
   ]
  },
  {
   "cell_type": "code",
   "execution_count": 2,
   "metadata": {
    "collapsed": true
   },
   "outputs": [],
   "source": [
    "# gradient descent function\n",
    "def gradient_descent(g,w,alpha,max_its,beta,version):    \n",
    "    # flatten the input function, create gradient based on flat function\n",
    "    g_flat, unflatten, w = flatten_func(g, w)\n",
    "    grad = compute_grad(g_flat)\n",
    "\n",
    "    # record history\n",
    "    w_hist = []\n",
    "    w_hist.append(unflatten(w))\n",
    "\n",
    "    # start gradient descent loop\n",
    "    z = np.zeros((np.shape(w)))      # momentum term\n",
    "    \n",
    "    # over the line\n",
    "    for k in range(max_its):   \n",
    "        # plug in value into func and derivative\n",
    "        grad_eval = grad(w)\n",
    "        grad_eval.shape = np.shape(w)\n",
    "\n",
    "        ### normalized or unnormalized descent step? ###\n",
    "        if version == 'normalized':\n",
    "            grad_norm = np.linalg.norm(grad_eval)\n",
    "            if grad_norm == 0:\n",
    "                grad_norm += 10**-6*np.sign(2*np.random.rand(1) - 1)\n",
    "            grad_eval /= grad_norm\n",
    "            \n",
    "        # take descent step with momentum\n",
    "        z = beta*z + grad_eval\n",
    "        w = w - alpha*z\n",
    "\n",
    "        # record weight update\n",
    "        w_hist.append(unflatten(w))\n",
    "\n",
    "    return w_hist"
   ]
  },
  {
   "cell_type": "code",
   "execution_count": 3,
   "metadata": {
    "collapsed": true
   },
   "outputs": [],
   "source": [
    "from autograd.misc.flatten import flatten_func\n",
    "from autograd import grad as compute_grad   "
   ]
  },
  {
   "cell_type": "markdown",
   "metadata": {},
   "source": [
    "# testing stochastic"
   ]
  },
  {
   "cell_type": "code",
   "execution_count": 4,
   "metadata": {
    "collapsed": true
   },
   "outputs": [],
   "source": [
    "# load in large-ish dataset\n",
    "datapath = '../../mlrefined_datasets/convnet_datasets/feat_face_data.csv'\n",
    "# datapath = '../../mlrefined_datasets/superlearn_datasets/3d_classification_data_v0.csv'\n",
    "data = np.loadtxt(datapath,delimiter = ',')"
   ]
  },
  {
   "cell_type": "code",
   "execution_count": 7,
   "metadata": {
    "collapsed": true
   },
   "outputs": [],
   "source": [
    "x = data[:,:-1]\n",
    "y = data[:,-1:]"
   ]
  },
  {
   "cell_type": "markdown",
   "metadata": {
    "collapsed": true
   },
   "source": [
    "Nice compact cost function."
   ]
  },
  {
   "cell_type": "code",
   "execution_count": 8,
   "metadata": {
    "collapsed": true
   },
   "outputs": [],
   "source": [
    "# the softmax cost function written more compactly\n",
    "def softmax(w):\n",
    "    cost  = np.sum(np.log(1 + np.exp((-y)*(w[0] + np.dot(x,w[1:])))))\n",
    "    return cost"
   ]
  },
  {
   "cell_type": "markdown",
   "metadata": {},
   "source": [
    "Compute gradient."
   ]
  },
  {
   "cell_type": "code",
   "execution_count": 9,
   "metadata": {
    "collapsed": true
   },
   "outputs": [],
   "source": [
    "grad = compute_grad(softmax)"
   ]
  },
  {
   "cell_type": "markdown",
   "metadata": {},
   "source": [
    "Test out cost with an initial weight vector."
   ]
  },
  {
   "cell_type": "code",
   "execution_count": 10,
   "metadata": {
    "collapsed": true
   },
   "outputs": [],
   "source": [
    "scale = 0.1\n",
    "w_init = scale*np.random.randn(np.shape(x)[1]+1,1)"
   ]
  },
  {
   "cell_type": "code",
   "execution_count": 11,
   "metadata": {},
   "outputs": [
    {
     "name": "stdout",
     "output_type": "stream",
     "text": [
      "6854.28678158\n",
      "Time elpased (hh:mm:ss.ms) 0:00:00.049834\n"
     ]
    }
   ],
   "source": [
    "startTime= datetime.now() \n",
    "\n",
    "print (softmax(w_init))\n",
    "\n",
    "timeElapsed=datetime.now()-startTime \n",
    "print('Time elpased (hh:mm:ss.ms) {}'.format(timeElapsed))"
   ]
  },
  {
   "cell_type": "markdown",
   "metadata": {},
   "source": [
    "Compare full gradient to stochastic evaluation."
   ]
  },
  {
   "cell_type": "code",
   "execution_count": 12,
   "metadata": {},
   "outputs": [
    {
     "name": "stdout",
     "output_type": "stream",
     "text": [
      "Time elpased (hh:mm:ss.ms) 0:00:00.069863\n"
     ]
    }
   ],
   "source": [
    "startTime= datetime.now() \n",
    "\n",
    "grad(w_init)\n",
    "\n",
    "timeElapsed=datetime.now()-startTime \n",
    "print('Time elpased (hh:mm:ss.ms) {}'.format(timeElapsed))"
   ]
  },
  {
   "cell_type": "markdown",
   "metadata": {},
   "source": [
    "Test stochastic.  First the cost."
   ]
  },
  {
   "cell_type": "code",
   "execution_count": 17,
   "metadata": {
    "collapsed": true
   },
   "outputs": [],
   "source": [
    "# 2-class logistic\n",
    "def stochastic_softmax(w,iter):\n",
    "    # get subset of points\n",
    "    x_p = x[iter,:]\n",
    "    y_p = y[iter]\n",
    "\n",
    "    # compute cost over just this subset\n",
    "    cost  = np.sum(np.log(1 + np.exp((-y)*(w[0] + np.dot(x_p,w[1:])))))\n",
    "    return cost"
   ]
  },
  {
   "cell_type": "markdown",
   "metadata": {},
   "source": [
    "Evaluate the cost."
   ]
  },
  {
   "cell_type": "code",
   "execution_count": 18,
   "metadata": {},
   "outputs": [
    {
     "name": "stdout",
     "output_type": "stream",
     "text": [
      "Time elpased (hh:mm:ss.ms) 0:00:00.000710\n"
     ]
    }
   ],
   "source": [
    "startTime= datetime.now() \n",
    "\n",
    "p = 10\n",
    "stochastic_softmax(w_init,p)\n",
    "\n",
    "timeElapsed=datetime.now()-startTime \n",
    "print('Time elpased (hh:mm:ss.ms) {}'.format(timeElapsed))"
   ]
  },
  {
   "cell_type": "markdown",
   "metadata": {},
   "source": [
    "Now the gradient."
   ]
  },
  {
   "cell_type": "code",
   "execution_count": 19,
   "metadata": {
    "collapsed": true
   },
   "outputs": [],
   "source": [
    "stchastic_grad = compute_grad(stochastic_softmax)"
   ]
  },
  {
   "cell_type": "code",
   "execution_count": 20,
   "metadata": {},
   "outputs": [
    {
     "name": "stdout",
     "output_type": "stream",
     "text": [
      "Time elpased (hh:mm:ss.ms) 0:00:00.001331\n"
     ]
    }
   ],
   "source": [
    "startTime= datetime.now() \n",
    "p = 10\n",
    "stchastic_grad(w_init,p)\n",
    "\n",
    "timeElapsed=datetime.now()-startTime \n",
    "print('Time elpased (hh:mm:ss.ms) {}'.format(timeElapsed))"
   ]
  },
  {
   "cell_type": "code",
   "execution_count": 15,
   "metadata": {
    "collapsed": true
   },
   "outputs": [],
   "source": [
    "x_blah = x[10,:]"
   ]
  },
  {
   "cell_type": "code",
   "execution_count": 16,
   "metadata": {
    "collapsed": true
   },
   "outputs": [],
   "source": [
    "# 2-class logistic\n",
    "def stochastic_softmax_2(w):\n",
    "    # compute cost over just this subset\n",
    "    cost  = np.sum(np.log(1 + np.exp((-y)*(w[0] + np.dot(x_blah,w[1:])))))\n",
    "    return cost"
   ]
  },
  {
   "cell_type": "code",
   "execution_count": 17,
   "metadata": {},
   "outputs": [
    {
     "name": "stdout",
     "output_type": "stream",
     "text": [
      "Time elpased (hh:mm:ss.ms) 0:00:00.000651\n"
     ]
    }
   ],
   "source": [
    "startTime= datetime.now() \n",
    "\n",
    "stochastic_softmax_2(w_init)\n",
    "\n",
    "timeElapsed=datetime.now()-startTime \n",
    "print('Time elpased (hh:mm:ss.ms) {}'.format(timeElapsed))"
   ]
  },
  {
   "cell_type": "code",
   "execution_count": 18,
   "metadata": {},
   "outputs": [
    {
     "name": "stdout",
     "output_type": "stream",
     "text": [
      "Time elpased (hh:mm:ss.ms) 0:00:00.001948\n"
     ]
    }
   ],
   "source": [
    "stchastic_grad_2 = compute_grad(stochastic_softmax_2)\n",
    "\n",
    "startTime= datetime.now() \n",
    "\n",
    "stchastic_grad_2(w_init)\n",
    "\n",
    "timeElapsed=datetime.now()-startTime \n",
    "print('Time elpased (hh:mm:ss.ms) {}'.format(timeElapsed))"
   ]
  }
 ],
 "metadata": {
  "kernelspec": {
   "display_name": "Python 3",
   "language": "python",
   "name": "python3"
  },
  "language_info": {
   "codemirror_mode": {
    "name": "ipython",
    "version": 3
   },
   "file_extension": ".py",
   "mimetype": "text/x-python",
   "name": "python",
   "nbconvert_exporter": "python",
   "pygments_lexer": "ipython3",
   "version": "3.5.3"
  }
 },
 "nbformat": 4,
 "nbformat_minor": 2
}
