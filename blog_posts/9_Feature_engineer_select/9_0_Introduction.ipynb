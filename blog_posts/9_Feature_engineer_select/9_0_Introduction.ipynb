{
 "cells": [
  {
   "cell_type": "markdown",
   "metadata": {},
   "source": [
    "## Chapter 9: Principles of Feature Engineering and Selection"
   ]
  },
  {
   "cell_type": "markdown",
   "metadata": {},
   "source": [
    "# 9.0  Introduction"
   ]
  },
  {
   "cell_type": "markdown",
   "metadata": {},
   "source": [
    "## Feature engineering \n",
    "\n",
    "    Recall from our discussion of histogram features for real data types in\n",
    "\n",
    "<img src=\"../../mlrefined_images/superlearn_images/quote.png\" width=550 height=450/>"
   ]
  },
  {
   "cell_type": "markdown",
   "metadata": {},
   "source": [
    "## Feature selection"
   ]
  },
  {
   "cell_type": "markdown",
   "metadata": {},
   "source": [
    "In some machine learning applications, you may face the following scenario: You're given a gargantuan number of input features, of which only a small number actually contribute to the target variable you're trying to predict. \n",
    "\n",
    "For example in Genome-Wide Association (GWA) studies we aim to predict a quantitative biological trait like cholesterol level (**regression**) or diagnose a disease like breast cancer (**classification**) using more than 20,000 genetic markers (**features**) across the human genome. It is known among biologists that the vast majority of genes have little or no effect on the presence or severity of most diseases. L1-regualirized models are therefore used in situations like this, allowing only a few of the thousands of possible genes to be selected by the model (**sparse feature selection**), resulting in predictive models with enhanced accuracy and human interpretability."
   ]
  },
  {
   "cell_type": "code",
   "execution_count": null,
   "metadata": {
    "collapsed": true
   },
   "outputs": [],
   "source": []
  }
 ],
 "metadata": {
  "kernelspec": {
   "display_name": "Python 3",
   "language": "python",
   "name": "python3"
  },
  "language_info": {
   "codemirror_mode": {
    "name": "ipython",
    "version": 3
   },
   "file_extension": ".py",
   "mimetype": "text/x-python",
   "name": "python",
   "nbconvert_exporter": "python",
   "pygments_lexer": "ipython3",
   "version": "3.5.3"
  }
 },
 "nbformat": 4,
 "nbformat_minor": 2
}
