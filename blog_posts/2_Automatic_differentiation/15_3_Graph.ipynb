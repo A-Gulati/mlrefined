{
 "cells": [
  {
   "cell_type": "markdown",
   "metadata": {},
   "source": [
    "## Chapter 15: Calculus and automatic differentiation "
   ]
  },
  {
   "cell_type": "markdown",
   "metadata": {},
   "source": [
    "# 15.3  The computation graph"
   ]
  },
  {
   "cell_type": "markdown",
   "metadata": {},
   "source": [
    "- In the previous Section we described how the derivative or gradient of elementary functions and operations are themselves elementary functions and operations\n",
    "\n",
    "\n",
    "- Virtually any function $g$ expressed via a formula can be broken down - akin to the way physical substances may be broken down into their atomic parts - into a combination of elementary functions and operations.  One very useful way of organizing the elementary decomposition of a generic function is via a so-called *computation graph*\n",
    "\n",
    "\n",
    "- The *computation graph* of a function $g$ not only allows us to more easily understand it as a combination of elementury functions and operations, it also allows us to easily compute the derivative or gradient of the function."
   ]
  },
  {
   "cell_type": "code",
   "execution_count": 1,
   "metadata": {
    "collapsed": true
   },
   "outputs": [],
   "source": [
    "# This code cell will not be shown in the HTML version of this notebook\n",
    "#imports from custom library\n",
    "import sys\n",
    "sys.path.append('../../')\n",
    "import autograd.numpy as np\n",
    "import matplotlib.pyplot as plt\n",
    "from mlrefined_libraries import calculus_library as calclib\n",
    "from mlrefined_libraries import basics_library as baslib\n",
    "\n",
    "%matplotlib notebook\n",
    "from matplotlib import rcParams\n",
    "rcParams['figure.autolayout'] = True"
   ]
  },
  {
   "cell_type": "markdown",
   "metadata": {},
   "source": [
    "Clearly the single input function\n",
    "\n",
    "\\begin{equation}\n",
    "g(w) = \\text{tanh}(w)\\text{cos}(w) + \\text{log}(w)\n",
    "\\end{equation}\n",
    "\n",
    "can be broken down into simple parts i.e., elementary functions and operations.  This decomposition can be conveniently organized into the *computation graph* shown below, which also shows us how computation *flows* through the various elementary functions and operations that constitute the function when computing values $g\\left(w\\right)$."
   ]
  },
  {
   "cell_type": "markdown",
   "metadata": {},
   "source": [
    "<p><img src=\"../../mlrefined_images/calculus_images/func_2_p0.png\" width=\"100%\" height=\"auto\"></p>"
   ]
  },
  {
   "cell_type": "markdown",
   "metadata": {},
   "source": [
    "A bit of noemclature for describing this graph is in order.   Firstly, we read this computation graph *from left to right* starting with the input node representing $w$ and ending with the full computation of $g\\left(w\\right)$.  Each *node* (after the input on the left, colored yellow) in the graph represents *a single elementary function or operation*, and is marked as such, and the arrows conecting pairs of nodes are called *directed edges* which show how computation flows when computing a value $g(w)$.  The words *parent* and *child* are often used to describe the local topology of a computation graphs, or in other words two nodes connected in a graph by a single edge.  The parent node is the one taking in the other node as input, or where the arrow points to.  The child node is the input of the parent, or where the arrow originates.  Because these terms / relationships are defined locally a particular node can be both a parent and a child with respect to other nodes in the graph. "
   ]
  },
  {
   "cell_type": "markdown",
   "metadata": {},
   "source": [
    "If we were to write out the formula of each *parent node* in terms its children, we would have the list of formulae"
   ]
  },
  {
   "cell_type": "markdown",
   "metadata": {},
   "source": [
    "\\begin{array}\n",
    "\\\n",
    "a = \\text{tanh}(w) \\\\\n",
    "b = \\text{cos}(w) \\\\\n",
    "c = \\text{log}(w) \\\\\n",
    "d = a\\times b \\\\\n",
    "e = d + c \\\\\n",
    "\\end{array} "
   ]
  },
  {
   "cell_type": "markdown",
   "metadata": {},
   "source": [
    "where the final formula for $e = g(w)$."
   ]
  },
  {
   "cell_type": "markdown",
   "metadata": {},
   "source": [
    "Take a moment to verify that the computation graph above indeed represents the expression $\\text{tanh}(1.5)\\text{cos}(1.5) + \\text{log}(1.5)$. Again every node (except the input node in gray) contains an operation: the nodes $d$ and $e$ contain the operations multiplication and addition, while the nodes $a$, $b$, and $c$ contain composition with $\\text{tanh}$, $\\text{cos}$, and $\\text{log}$, repectively. In general, when any of the elementary functions appear in a node, that node represents the composition of that elementary function with its input.   \n",
    "\n",
    "We can now use the computation graph to evaluate the expression $\\text{tanh}(1.5)\\text{cos}(1.5) + \\text{log}(1.5)$. To do so, we start from the input node (shown in gray) on the left and wiggle our way to the rightmost node $e$.\n",
    "\n",
    "With the first parent-child equation we have $a = \\text{tanh}(1.5) = 0.905$, which can be shown on the computation graph as follows where the parent and child nodes are highlighted in red and blue, respectively.\n",
    "\n",
    "Moving on to the second equation we have $b = \\text{cos}(1.5) = 0.701$\n",
    "\n",
    "The third and last parent of the input node is the node $c$ whose value is found as $c = \\text{log}(1.5)\\approx 0.176$ \n",
    "\n",
    "\n",
    "Continuning our evaluation, next we get to the node $d$ that has two children: nodes $a$ and $b$, whose values are already found. Therefore we have $d = a \\times b \\ = 0.905 \\times 0.701 = 0.634$  \n",
    "\n",
    "\n",
    "Finally, the node $e$ can be evaluated using the values of its children, nodes $c$ and $d$, as $e=d+c= 0.634+0.176=0.810$.\n",
    "\n",
    "\n",
    "As you see here in this example, the final value of a mathematical expression is found by moving forward (from left to right) through the computation graph. "
   ]
  },
  {
   "cell_type": "markdown",
   "metadata": {},
   "source": [
    "<figure>\n",
    "\n",
    "<img src=\"../../mlrefined_images/calculus_images/compgraph_1.png\" width=\"100%\" >  \n",
    "<figcaption> <strong>Figure 1:</strong> <em>\n",
    "</em>\n",
    "</figcaption>\n",
    "</figure>"
   ]
  },
  {
   "cell_type": "markdown",
   "metadata": {},
   "source": [
    "&copy; This material is not to be distributed, copied, or reused without written permission from the authors."
   ]
  }
 ],
 "metadata": {
  "kernelspec": {
   "display_name": "Python 3",
   "language": "python",
   "name": "python3"
  },
  "language_info": {
   "codemirror_mode": {
    "name": "ipython",
    "version": 3
   },
   "file_extension": ".py",
   "mimetype": "text/x-python",
   "name": "python",
   "nbconvert_exporter": "python",
   "pygments_lexer": "ipython3",
   "version": "3.5.3"
  },
  "toc": {
   "colors": {
    "hover_highlight": "#DAA520",
    "navigate_num": "#000000",
    "navigate_text": "#333333",
    "running_highlight": "#FF0000",
    "selected_highlight": "#FFD700",
    "sidebar_border": "#EEEEEE",
    "wrapper_background": "#FFFFFF"
   },
   "moveMenuLeft": true,
   "nav_menu": {
    "height": "121px",
    "width": "252px"
   },
   "navigate_menu": true,
   "number_sections": false,
   "sideBar": true,
   "threshold": 4,
   "toc_cell": false,
   "toc_section_display": "block",
   "toc_window_display": false,
   "widenNotebook": false
  },
  "widgets": {
   "application/vnd.jupyter.widget-state+json": {
    "state": {},
    "version_major": 1,
    "version_minor": 0
   }
  }
 },
 "nbformat": 4,
 "nbformat_minor": 2
}
