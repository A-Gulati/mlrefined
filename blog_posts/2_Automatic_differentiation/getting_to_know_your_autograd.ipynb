{
 "cells": [
  {
   "cell_type": "markdown",
   "metadata": {},
   "source": [
    "# Autograd: your professional grade automatic differentiator"
   ]
  },
  {
   "cell_type": "markdown",
   "metadata": {},
   "source": [
    "Chapter 4 of this text describes in significant detail how you can build your own Automatic Differentiator calculator.  However in the interest of making this text as modular as possible, outside of Chapter 4 we will be using the professional grade Automatic Differentiation calculator [autorad](https://github.com/HIPS/autograd).  This is a free professioally built and maintained derivative calculator that works with a large swath of the ``numpy`` based library, i.e., it allows you to automatically compute the derivative of functions built with the ``numpy`` library.  It has a very nice user-interface and pairs extremely well with standard ``numpy`` commands, and is easy to pick up and use (due of course to the extensive work that has been put into making it!).\n",
    "\n",
    "You can install this package by clicking the link above and following the install instructions or via your terminal by typing \n",
    "\n",
    "``pip install autograd``\n",
    "\n",
    "It is also highly recommended that you install the Anaconda ``Python`` 3 distribution - which you can [find here](https://www.anaconda.com/download/).  This ``Python`` basic distribution includes a number of useful libraries - including numpy, matplotlib, and Jupyter itself - and makes it easier to install additional libraries as well. \n",
    "\n",
    "In this short Section we show off a few examples highlighting the basic usage of the autograd calculator, along with the syntax for producing two-dimensional and three-dimensional plots using ``matplotlib``."
   ]
  },
  {
   "cell_type": "code",
   "execution_count": 1,
   "metadata": {
    "collapsed": true
   },
   "outputs": [],
   "source": [
    "# # this is needed to compensate for %matplotlib notebook's tendancy to blow up images when plotted inline\n",
    "# %matplotlib notebook\n",
    "# from matplotlib import rcParams\n",
    "# rcParams['figure.autolayout'] = True"
   ]
  },
  {
   "cell_type": "markdown",
   "metadata": {},
   "source": [
    "#### <span style=\"color:#a50e3e;\">Example 1. </span> Computing derivatives of single-input functions using ``autograd``"
   ]
  },
  {
   "cell_type": "markdown",
   "metadata": {},
   "source": [
    "Since ``autograd`` is specially designed to automatically compute the derivative(s) of ``numpy`` code, it comes with its own distribution of ``numpy`` that wrappers and slightly  modified versions of certain functionalities.  You can use ``autograd``'s version of ``numpy`` exactly like you would the standard version - nothing about the user interface has been changed.  To import this ``autograd`` wrapped version of ``numpy`` use the line below."
   ]
  },
  {
   "cell_type": "code",
   "execution_count": 2,
   "metadata": {
    "collapsed": true
   },
   "outputs": [],
   "source": [
    "# import statement for autograd wrapped numpy\n",
    "import autograd.numpy as np   "
   ]
  },
  {
   "cell_type": "markdown",
   "metadata": {},
   "source": [
    "Now, lets compute a few derivatives.  There are two common ways of defining functions in ``Python``.  First the the standard ``def`` named ``Python`` function declaration like below"
   ]
  },
  {
   "cell_type": "code",
   "execution_count": 3,
   "metadata": {
    "collapsed": true
   },
   "outputs": [],
   "source": [
    "# a named Python function\n",
    "def my_func(w):\n",
    "    return np.tanh(w)"
   ]
  },
  {
   "cell_type": "markdown",
   "metadata": {},
   "source": [
    "WIth this declaration ``Python`` now understands ``my_func`` as its own function, so it can be called as follows."
   ]
  },
  {
   "cell_type": "code",
   "execution_count": 4,
   "metadata": {},
   "outputs": [
    {
     "name": "stdout",
     "output_type": "stream",
     "text": [
      "0.761594155956\n"
     ]
    }
   ],
   "source": [
    "# how to use the 'sin' function\n",
    "w_val = 1.0   # a test input for our 'sin' function\n",
    "g_val = my_func(w_val)\n",
    "print (g_val)"
   ]
  },
  {
   "cell_type": "markdown",
   "metadata": {},
   "source": [
    "You can also create \"anonymous\" functions in ``Python`` -  functions you can define in a single line of code - by using the ``lambda`` command.  We can produce the same function using lambda as shown below."
   ]
  },
  {
   "cell_type": "code",
   "execution_count": 5,
   "metadata": {
    "collapsed": true
   },
   "outputs": [],
   "source": [
    "# how to use 'lambda' to create an \"anonymous\" function - just a pithier way of writing functions in Python\n",
    "g = lambda w: np.tanh(w)"
   ]
  },
  {
   "cell_type": "markdown",
   "metadata": {},
   "source": [
    "We can then use it with a test value as shown below."
   ]
  },
  {
   "cell_type": "code",
   "execution_count": 6,
   "metadata": {},
   "outputs": [
    {
     "name": "stdout",
     "output_type": "stream",
     "text": [
      "0.761594155956\n"
     ]
    }
   ],
   "source": [
    "# how to use the 'sin' function\n",
    "w_val = 1.0   \n",
    "g_val = g(w_val)\n",
    "print (g_val)"
   ]
  },
  {
   "cell_type": "markdown",
   "metadata": {},
   "source": [
    "And - of course - regardless of how we define our function in ``Python`` it still amounts to the same thing mathematically/computationally."
   ]
  },
  {
   "cell_type": "markdown",
   "metadata": {},
   "source": [
    "Notice on subtlety here (regardless of which kind of ``Python`` function we use): the data-type returned by our function matches the type we input.  Above we input a ``float`` value to our function, and what is returned is also a ``float``.  If we input the same value as a ``numpy`` array then numerically our function of course computes the same evaluation, but evaluation is returned as a ``numpy`` array as well.  We illustrate this below."
   ]
  },
  {
   "cell_type": "code",
   "execution_count": 7,
   "metadata": {},
   "outputs": [
    {
     "name": "stdout",
     "output_type": "stream",
     "text": [
      "<class 'float'>\n",
      "<class 'numpy.float64'>\n",
      "[ 0.76159416]\n",
      "<class 'numpy.ndarray'>\n",
      "<class 'numpy.ndarray'>\n"
     ]
    }
   ],
   "source": [
    "# if we input a float value into our function, it returns a float\n",
    "print (type(w_val))\n",
    "print (type(g_val))\n",
    "\n",
    "# if we input a numpy array, it returns a numpy array\n",
    "w_val = np.array([1.0])  \n",
    "g_val = g(w_val)\n",
    "print (g_val)\n",
    "print (type(w_val))\n",
    "print (type(g_val))"
   ]
  },
  {
   "cell_type": "markdown",
   "metadata": {},
   "source": [
    "This factoid has no immediate consequences, but it is worth taking note of to avoid confusion (when e.g., comparing the output when evaluating at single points - which are naturally dealt with by inputing a ``float`` - versus multiple points, which is more naturally dealt with by inputing a ``numpy`` array).  Much later - when we are constructing considerably complex functions we need to differentiate - this will be something to keep in mind for de-bugging purposes."
   ]
  },
  {
   "cell_type": "markdown",
   "metadata": {},
   "source": [
    "In any case - we can visualize either version of our function by using ``matplotlib`` assets, as shown below.  First we load in the library into our current namespace."
   ]
  },
  {
   "cell_type": "code",
   "execution_count": 8,
   "metadata": {
    "collapsed": true
   },
   "outputs": [],
   "source": [
    "# the import statement for matplotlib\n",
    "import matplotlib.pyplot as plt"
   ]
  },
  {
   "cell_type": "markdown",
   "metadata": {},
   "source": [
    "Now we plot the function - here we will plot the ``lambda`` version - over a fine range of points on the interval $[-5,5]$."
   ]
  },
  {
   "cell_type": "code",
   "execution_count": 9,
   "metadata": {},
   "outputs": [
    {
     "data": {
      "image/png": "[encoded data removed]",
      "text/plain": [
       "<matplotlib.figure.Figure at 0x10f4f1f98>"
      ]
     },
     "metadata": {},
     "output_type": "display_data"
    }
   ],
   "source": [
    "# create a sample of points to plot over \n",
    "w_vals = np.linspace(-5,5,200)\n",
    "\n",
    "# evaluate the function over each of these values - one can use an explicit for-loop here instead of a list comprehension\n",
    "g_vals = [g(v) for v in w_vals]\n",
    "\n",
    "# plot\n",
    "fig, ax = plt.subplots(1, 1, figsize=(6,3))\n",
    "ax.plot(w_vals,g_vals)\n",
    "plt.show()"
   ]
  },
  {
   "cell_type": "markdown",
   "metadata": {},
   "source": [
    "Now, using ``autograd`` we can then compute the derivative of our function here automatically.  Below we show the proper import statement and manner of using the gradient calculator called ``grad``."
   ]
  },
  {
   "cell_type": "code",
   "execution_count": 10,
   "metadata": {
    "collapsed": true
   },
   "outputs": [],
   "source": [
    "# import statment for gradient calculator\n",
    "from autograd import grad    "
   ]
  },
  {
   "cell_type": "markdown",
   "metadata": {},
   "source": [
    "To use ``grad`` we simply pass in the function we wish to differentiate.  ``grad`` works by *explicitly* computing the computation graph of our input, giving us a ``Python`` function for its derivative that we can then evaluate wherever we want.  Here we call the derivative function of our input ``dgdw``."
   ]
  },
  {
   "cell_type": "code",
   "execution_count": 11,
   "metadata": {
    "collapsed": true
   },
   "outputs": [],
   "source": [
    "# create the derivative/gradient function of g --> called dgdw\n",
    "dgdw = grad(g)"
   ]
  },
  {
   "cell_type": "markdown",
   "metadata": {},
   "source": [
    "The gradient function can be evaluated like our original ``Python`` function - as shown below.  "
   ]
  },
  {
   "cell_type": "code",
   "execution_count": 12,
   "metadata": {},
   "outputs": [
    {
     "name": "stdout",
     "output_type": "stream",
     "text": [
      "0.419974341614\n"
     ]
    }
   ],
   "source": [
    "# evaluate the gradient function at a point\n",
    "w_val = 1.0\n",
    "print (dgdw(1.0))"
   ]
  },
  {
   "cell_type": "markdown",
   "metadata": {},
   "source": [
    "Just as with our original ``Python`` function we can then evaluate our gradient ``dgdw`` over a fine range of input and plot the result.  We do this below, plotting the original function as well for comparison.  "
   ]
  },
  {
   "cell_type": "code",
   "execution_count": 13,
   "metadata": {},
   "outputs": [
    {
     "data": {
      "image/png": "[encoded data removed]",
      "text/plain": [
       "<matplotlib.figure.Figure at 0x1115bda90>"
      ]
     },
     "metadata": {},
     "output_type": "display_data"
    }
   ],
   "source": [
    "# create space over which to evaluate function and gradient\n",
    "w_vals = np.linspace(-5,5,200)\n",
    "\n",
    "# evaluate gradient over input range\n",
    "g_vals = [g(v) for v in w_vals]\n",
    "dg_vals = [dgdw(v) for v in w_vals]\n",
    "\n",
    "# create figure\n",
    "fig = plt.figure(figsize = (7,3))\n",
    "\n",
    "# plot function and gradient values\n",
    "plt.plot(w_vals,g_vals)\n",
    "plt.plot(w_vals,dg_vals)\n",
    "plt.legend(['func','derivative'],loc='center left', bbox_to_anchor=(1, 0.5))\n",
    "plt.show()"
   ]
  },
  {
   "cell_type": "markdown",
   "metadata": {},
   "source": [
    "We can compute higher order derivatives of our input function by using the same ``autograd``  functionality recursively, i.e., by plugging in the derivative ```dgdw``` into ``autograd``'s ``grad`` function.  Doing this once gives us the second derivative as shown below."
   ]
  },
  {
   "cell_type": "code",
   "execution_count": 14,
   "metadata": {
    "collapsed": true
   },
   "outputs": [],
   "source": [
    "# compute the second derivative of our input function\n",
    "dgdw2 = grad(dgdw)"
   ]
  },
  {
   "cell_type": "markdown",
   "metadata": {},
   "source": [
    "We can then plot the input function, as well as the first and second derivatives, as shown below."
   ]
  },
  {
   "cell_type": "code",
   "execution_count": 15,
   "metadata": {},
   "outputs": [
    {
     "data": {
      "image/png": "[encoded data removed]",
      "text/plain": [
       "<matplotlib.figure.Figure at 0x11166e198>"
      ]
     },
     "metadata": {},
     "output_type": "display_data"
    }
   ],
   "source": [
    "# define set of points over which to plot function and first two derivatives\n",
    "w = np.linspace(-5,5,500)\n",
    "\n",
    "# evaluate the input function g, first derivative dgdw, and second derivative dgdw2 over the input points\n",
    "g_vals = [g(v) for v in w]\n",
    "dg_vals = [dgdw(v) for v in w]\n",
    "dg2_vals = [dgdw2(v) for v in w]\n",
    "\n",
    "# plot the function and derivative\n",
    "fig = plt.figure(figsize = (7,3))\n",
    "plt.plot(w,g_vals,linewidth=2)\n",
    "plt.plot(w,dg_vals,linewidth=2)\n",
    "plt.plot(w,dg2_vals,linewidth=2)\n",
    "plt.legend(['$g(w)$',r'$\\frac{\\mathrm{d}}{\\mathrm{d}w}g(w)$',r'$\\frac{\\mathrm{d}^2}{\\mathrm{d}w^2}g(w)$'],loc='center left', bbox_to_anchor=(1, 0.5),fontsize = 13)\n",
    "plt.show()"
   ]
  },
  {
   "cell_type": "markdown",
   "metadata": {},
   "source": [
    "#### <span style=\"color:#a50e3e;\">Example 2. </span> Remember, whenever you use an Automatic Differentiatior to evaluate a gradient you are explicitly evaluating the function as well"
   ]
  },
  {
   "cell_type": "markdown",
   "metadata": {},
   "source": [
    "Above you may notice that the derivative function ``dgdw`` we have constructed returns only the derivative evaluation, and not the function evaluation itself (we have computed this separately when e.g., plotting a range of function / derivative values above).  However as we described in the previous Sections, an Automatic Differentiator will always need to compute the value of the function itself whenever we use it to compute a derivative / gradient evaluation.  *So - in other words - whenever we evaluate the gradient, we get the function evaluation for free*.  This is a very handy technical fact which will save us a ton of computation later on when we discuss e.g., supervised learning models.  "
   ]
  },
  {
   "cell_type": "markdown",
   "metadata": {},
   "source": [
    "We can already see an example of the waste - e.g., in the previous example when we evaluated / plotted the function and its first derivative there was no need to actually evaluate the function explicitly since these computations are already performed when we evaluate the gradient.  However when we used ``autograd``'s ``grad`` functionality to compute the gradient of our function in the previous example, and then evaluated it at a single point, ``grad`` only returned a single value: the evaluation of the derivative.  No function evaluation was returned - so where is the mirror function evaluation?  Well the function evaluation is indeed being computed 'under the hood' of ``grad``, it is simply not being returned via this method.  This is a design choice made by the authors of ``autograd`` to keep the interface of ``grad`` - their introductary Automatic Differentiation method - easy to pick up and use for a wide audience.  Later when the need to re-compute function evaluations becomes quite costly we will use this ``autograd`` method exclusively (one can view the entire list of ``autograd`` [methods available here](https://github.com/HIPS/autograd/blob/master/autograd/differential_operators.py). "
   ]
  },
  {
   "cell_type": "markdown",
   "metadata": {},
   "source": [
    "Now there is another ``autograd`` method called ``value_and_grad`` that returns everything computed 'under the hood' -  both the derivative(s) and function evaluations.  Below we use this ``autograd`` functionality to re-produce the previous example first derivative calculations."
   ]
  },
  {
   "cell_type": "code",
   "execution_count": 16,
   "metadata": {
    "collapsed": true
   },
   "outputs": [],
   "source": [
    "# how to use 'lambda' to create an \"anonymous\" function - just a pithier way of writing functions in Python\n",
    "g = lambda w: np.tanh(w)"
   ]
  },
  {
   "cell_type": "code",
   "execution_count": 17,
   "metadata": {
    "collapsed": true
   },
   "outputs": [],
   "source": [
    "# import statment for gradient calculator - this method will return both\n",
    "# derivative and function evaluations (the latter always being computed 'under\n",
    "# the hood')\n",
    "from autograd import value_and_grad    "
   ]
  },
  {
   "cell_type": "code",
   "execution_count": 18,
   "metadata": {
    "collapsed": true
   },
   "outputs": [],
   "source": [
    "# create the derivative/gradient function of g --> called dgdw\n",
    "dgdw = value_and_grad(g)"
   ]
  },
  {
   "cell_type": "markdown",
   "metadata": {},
   "source": [
    "We have our derivative function ``dgdw`` above computed now using ``value_and_grad``.  Below we plug in a single point into this derivative function, and what is returned is both the function (left value) and derivative (right value) evaluation.  This function evaluation comes 'for free' whenever we evaluate the derivative - we need not evaluate the function itself again."
   ]
  },
  {
   "cell_type": "code",
   "execution_count": 19,
   "metadata": {},
   "outputs": [
    {
     "name": "stdout",
     "output_type": "stream",
     "text": [
      "(0.76159415595576485, 0.41997434161402608)\n"
     ]
    }
   ],
   "source": [
    "# evaluate the gradient function at a point\n",
    "w_val = 1.0\n",
    "print (dgdw(1.0))"
   ]
  },
  {
   "cell_type": "markdown",
   "metadata": {},
   "source": [
    "Now we use this to plot both the function and derivative over the same range used in the previous example - again without re-computing the function evaluations."
   ]
  },
  {
   "cell_type": "code",
   "execution_count": 29,
   "metadata": {},
   "outputs": [
    {
     "data": {
      "image/png": "[encoded data removed]",
      "text/plain": [
       "<matplotlib.figure.Figure at 0x111fd7ac8>"
      ]
     },
     "metadata": {},
     "output_type": "display_data"
    }
   ],
   "source": [
    "# create space over which to evaluate function and gradient\n",
    "w_vals = np.linspace(-5,5,200)\n",
    "\n",
    "# evaluate gradient over input range\n",
    "g_vals = [dgdw(v)[0] for v in w_vals]\n",
    "dg_vals = [dgdw(v)[1] for v in w_vals]\n",
    "\n",
    "# create figure\n",
    "fig = plt.figure(figsize = (7,3))\n",
    "\n",
    "# plot the function and derivative\n",
    "plt.plot(w_vals,g_vals,linewidth=2)\n",
    "plt.plot(w_vals,dg_vals,linewidth=2)\n",
    "plt.legend(['$g(w)$',r'$\\frac{\\mathrm{d}}{\\mathrm{d}w}g(w)$',r'$\\frac{\\mathrm{d}^2}{\\mathrm{d}w^2}g(w)$'],loc='center left', bbox_to_anchor=(1, 0.5),fontsize = 13)\n",
    "plt.show()"
   ]
  },
  {
   "cell_type": "markdown",
   "metadata": {},
   "source": [
    "#### <span style=\"color:#a50e3e;\">Example 3. </span> Computing Taylor series approximations"
   ]
  },
  {
   "cell_type": "markdown",
   "metadata": {
    "collapsed": true
   },
   "source": [
    "Using ``autograd`` we can quickly illustrate Taylor series approximations of any single-input function.  Below we illustrate the ``tanh`` function, along with a first order Taylor series appromiation \n",
    "\n",
    "\\begin{equation}\n",
    "h(w) = g(w^0) + \\frac{\\mathrm{d}}{\\mathrm{d}w}g(w^0)(w - w^0)\n",
    "\\end{equation}\n",
    "\n",
    "centered at the point $w^0 = 1$.  Here the approximation is shown in green, with the point of tangency with the function shown as a red point."
   ]
  },
  {
   "cell_type": "code",
   "execution_count": 30,
   "metadata": {},
   "outputs": [
    {
     "data": {
      "image/png": "[encoded data removed]",
      "text/plain": [
       "<matplotlib.figure.Figure at 0x1122970f0>"
      ]
     },
     "metadata": {},
     "output_type": "display_data"
    }
   ],
   "source": [
    "# create area over which to evaluate everything\n",
    "w = np.linspace(-5,5,200); w_0 = 1.0; w_=np.linspace(-2+w_0,2+w_0,200);\n",
    "\n",
    "# define and evaluate the function, define derivative\n",
    "g = lambda w: np.tanh(w); dgdw = grad(g);\n",
    "gvals = [g(v) for v in w]\n",
    "\n",
    "# create tangent line at a point w_0\n",
    "tangent = g(w_0) + dgdw(w_0)*(w_ - w_0)\n",
    "\n",
    "# plot the function and derivative \n",
    "fig = plt.figure(figsize = (6,4))\n",
    "plt.plot(w,gvals,c = 'k',linewidth=2,zorder = 1)\n",
    "plt.plot(w_,tangent,c = [0,1,0.25],linewidth=2,zorder = 2)\n",
    "plt.scatter(w_0,g(w_0),c = 'r',s=50,zorder = 3,edgecolor='k',linewidth=1)\n",
    "plt.legend(['$g(w)$','tangent'],loc='center left', bbox_to_anchor=(1, 0.5),fontsize = 13)\n",
    "plt.show()"
   ]
  },
  {
   "cell_type": "markdown",
   "metadata": {
    "collapsed": true
   },
   "source": [
    "Its just as easy to show the second order Taylor series approximation as well, whose formula is given as\n",
    "\n",
    "\\begin{equation}\n",
    "h(w) = g(w^0) + \\frac{\\mathrm{d}}{\\mathrm{d}w}g(w^0)(w - w^0) +  \\frac{1}{2}\\frac{\\mathrm{d}^2}{\\mathrm{d}w^2}g(w^0)(w - w^0)^2.\n",
    "\\end{equation}"
   ]
  },
  {
   "cell_type": "markdown",
   "metadata": {},
   "source": [
    "Below we compute and plot both the ``tanh`` function, along with its first and second order Taylor series approximations at the point $w^0 = 1$.  The first and second order approximations are shown in green and blue respectively, with the point of expansion again shown as a red point."
   ]
  },
  {
   "cell_type": "code",
   "execution_count": 35,
   "metadata": {},
   "outputs": [
    {
     "data": {
      "image/png": "[encoded data removed]",
      "text/plain": [
       "<matplotlib.figure.Figure at 0x10f59fa58>"
      ]
     },
     "metadata": {},
     "output_type": "display_data"
    }
   ],
   "source": [
    "# create area over which to evaluate everything\n",
    "w = np.linspace(-5,5,200); w_0 = 1.0; w_=np.linspace(-2+w_0,2+w_0,200);\n",
    "\n",
    "# define and evaluate the function, define derivative\n",
    "g = lambda w: np.tanh(w); dgdw = grad(g); dgdw2 = grad(dgdw);\n",
    "gvals = [g(v) for v in w]\n",
    "\n",
    "# create tangent line and quadratic\n",
    "tangent = g(w_0) + dgdw(w_0)*(w_ - w_0)\n",
    "quadratic = g(w_0) + dgdw(w_0)*(w_ - w_0) + 0.5*dgdw2(w_0)*(w_ - w_0)**2\n",
    "\n",
    "# plot the function and derivative \n",
    "fig = plt.figure(figsize = (7,4))\n",
    "plt.plot(w,gvals,c = 'k',linewidth=2,zorder = 1)\n",
    "plt.plot(w_,tangent,c = [0,1,0.25],linewidth=2,zorder = 2)\n",
    "plt.plot(w_,quadratic,c = [0,0.75,1],linewidth=2,zorder = 2)\n",
    "plt.scatter(w_0,g(w_0),c = 'r',s=50,zorder = 3,edgecolor='k',linewidth=1)\n",
    "plt.legend(['$g(w)$','tangent line','tangent quadratic'],loc='center left', bbox_to_anchor=(1, 0.5),fontsize = 13)\n",
    "plt.show()"
   ]
  },
  {
   "cell_type": "markdown",
   "metadata": {},
   "source": [
    "#### <span style=\"color:#a50e3e;\">Example 4. </span> Computing derivatives of multi-input functions using ``autograd``"
   ]
  },
  {
   "cell_type": "markdown",
   "metadata": {},
   "source": [
    "Here we use the same ``autograd`` functionality introduced in the previous example to compute the derivatives i.e., the gradient of a multi-input function.  Along the way we will see some of the process and syntax required to plot in three dimensions using the plotting library ``matplotlib``.\n",
    "\n",
    "First lets define a ``Python`` version of the multi-input function \n",
    "\n",
    "\\begin{equation}\n",
    "g\\left(\\mathbf{w}\\right) = \\text{tanh}\\left(w_1 - w_2\\right).\n",
    "\\end{equation}\n",
    "\n",
    "Here we will use the longer form ``def`` version of a ``Python`` function, but we could of course use the pithier ``lambda`` version if we like."
   ]
  },
  {
   "cell_type": "code",
   "execution_count": null,
   "metadata": {
    "collapsed": true
   },
   "outputs": [],
   "source": [
    "def my_func(w):\n",
    "    return np.tanh(w[0] - w[1])"
   ]
  },
  {
   "cell_type": "markdown",
   "metadata": {},
   "source": [
    "Below we evaluate our function at a random point - note here the output is packaged in an array format since ``np.random.randn`` produces random points in this format."
   ]
  },
  {
   "cell_type": "code",
   "execution_count": null,
   "metadata": {},
   "outputs": [],
   "source": [
    "# evaluate our multi-input function at a random point\n",
    "w_val = np.random.randn(2,1)\n",
    "my_func(w_val)"
   ]
  },
  {
   "cell_type": "markdown",
   "metadata": {},
   "source": [
    "To produce the a set of values over a range of input we can use the two-dimensional analog of ``linspace``, called ``meshgrid``.  This takes in two one-dimensional numeric arrays and outputs a rectangular grid over them.  In the next cell we use this functionality to produce a fine grid of points on the square $\\left[-5,5\\right] \\times \\left[-5,5\\right]$ and then evaluate our function over these points."
   ]
  },
  {
   "cell_type": "code",
   "execution_count": null,
   "metadata": {
    "code_folding": [],
    "collapsed": true
   },
   "outputs": [],
   "source": [
    "### evaluate our function over a fine range of points on a square\n",
    "# produce grid of values\n",
    "s = np.linspace(-5,5,200)\n",
    "w1,w2 = np.meshgrid(s,s)\n",
    "\n",
    "# reshape grid and evaluate all points using our function\n",
    "w1 = np.reshape(w1,(1,np.size(w1)))\n",
    "w2 = np.reshape(w2,(1,np.size(w2)))\n",
    "w = np.concatenate((w1,w2),axis = 0)\n",
    "g_vals = my_func(w)"
   ]
  },
  {
   "cell_type": "markdown",
   "metadata": {},
   "source": [
    "Now we can plot our function in three dimensions.  The ``matplotlib`` syntax for doing this is shown below."
   ]
  },
  {
   "cell_type": "code",
   "execution_count": null,
   "metadata": {},
   "outputs": [],
   "source": [
    "# import three-dimensional plotting library into namespace\n",
    "from mpl_toolkits.mplot3d import Axes3D\n",
    "\n",
    "# generate figure and panel\n",
    "fig = plt.figure(figsize = (4,4))\n",
    "ax = fig.gca(projection='3d')\n",
    "\n",
    "# re-shape inputs and output for plotting\n",
    "w1 = np.reshape(w1,(np.size(s),np.size(s)))\n",
    "w2 = np.reshape(w2,(np.size(s),np.size(s)))\n",
    "g_vals = np.reshape(g_vals,(np.size(s),np.size(s)))\n",
    "\n",
    "# Plot the surface\n",
    "ax.plot_surface(w1,w2,g_vals,alpha = 0.2,color = 'r')\n",
    "ax.view_init(10,50)\n",
    "plt.show()"
   ]
  },
  {
   "cell_type": "markdown",
   "metadata": {},
   "source": [
    "Now we use ``autograd``'s ``grad`` function to compute the gradient of our function.  Note how - in terms of the user-interface especially - we are using the same commands we used above in computing the derivative of a single-input function."
   ]
  },
  {
   "cell_type": "code",
   "execution_count": null,
   "metadata": {
    "collapsed": true
   },
   "outputs": [],
   "source": [
    "# compute the second derivative of our input function\n",
    "nabla_g = grad(my_func)\n",
    "nabla_vals = np.array([nabla_g(v) for v in w.T])"
   ]
  },
  {
   "cell_type": "markdown",
   "metadata": {},
   "source": [
    "Finally, lets plot the original function along with its two (partial) derivatives.  Because we are producing a plot with multiple panels we will load in the ``gridspec`` tool from ``matplotlib``, which provides a nice set of controls over placement/size/etc., of panels with multiple subplots."
   ]
  },
  {
   "cell_type": "code",
   "execution_count": null,
   "metadata": {},
   "outputs": [],
   "source": [
    "# separate out each partial derivative from the gradient evaluations\n",
    "partial_1vals = nabla_vals[:,0]\n",
    "partial_2vals = nabla_vals[:,1]\n",
    "\n",
    "# reshape each partial evaluations appropriately for plotting\n",
    "partial_1vals = np.reshape(partial_1vals,(np.size(s),np.size(s)))\n",
    "partial_2vals = np.reshape(partial_2vals,(np.size(s),np.size(s)))\n",
    "\n",
    "# load in the gridspec tool from matplotlib for better subplot handling\n",
    "from matplotlib import gridspec\n",
    "\n",
    "# initialize figure\n",
    "fig = plt.figure(figsize = (8,3))\n",
    "\n",
    "# create subplot with 1 panel\n",
    "gs = gridspec.GridSpec(1,3) \n",
    "ax1 = plt.subplot(gs[0],projection = '3d'); \n",
    "ax2 = plt.subplot(gs[1],projection = '3d'); \n",
    "ax3 = plt.subplot(gs[2],projection = '3d'); \n",
    "\n",
    "# plot surfaces\n",
    "ax1.plot_surface(w1,w2,g_vals,alpha = 0.25,color = 'r')\n",
    "ax1.set_title(r'$g\\left(\\mathbf{w}\\right)$',fontsize = 12)\n",
    "ax1.view_init(10,50)\n",
    "\n",
    "ax2.plot_surface(w1,w2,partial_1vals,alpha = 0.25,color = 'r')\n",
    "ax2.set_title(r'$\\frac{\\partial}{\\partial w_1}g\\left(\\mathbf{w}\\right)$',fontsize = 12)\n",
    "ax2.view_init(10,50)\n",
    "\n",
    "ax3.plot_surface(w1,w2,partial_2vals,alpha = 0.25,color = 'r') \n",
    "ax3.set_title(r'$\\frac{\\partial}{\\partial w_2}g\\left(\\mathbf{w}\\right)$',fontsize = 12)\n",
    "ax3.view_init(10,50)\n",
    "plt.show()"
   ]
  }
 ],
 "metadata": {
  "anaconda-cloud": {},
  "kernelspec": {
   "display_name": "Python 3",
   "language": "python",
   "name": "python3"
  },
  "language_info": {
   "codemirror_mode": {
    "name": "ipython",
    "version": 3
   },
   "file_extension": ".py",
   "mimetype": "text/x-python",
   "name": "python",
   "nbconvert_exporter": "python",
   "pygments_lexer": "ipython3",
   "version": "3.5.3"
  },
  "toc": {
   "colors": {
    "hover_highlight": "#DAA520",
    "navigate_num": "#000000",
    "navigate_text": "#333333",
    "running_highlight": "#FF0000",
    "selected_highlight": "#FFD700",
    "sidebar_border": "#EEEEEE",
    "wrapper_background": "#FFFFFF"
   },
   "moveMenuLeft": true,
   "nav_menu": {
    "height": "30px",
    "width": "252px"
   },
   "navigate_menu": true,
   "number_sections": false,
   "sideBar": true,
   "threshold": 4,
   "toc_cell": false,
   "toc_section_display": "block",
   "toc_window_display": false,
   "widenNotebook": false
  }
 },
 "nbformat": 4,
 "nbformat_minor": 1
}
