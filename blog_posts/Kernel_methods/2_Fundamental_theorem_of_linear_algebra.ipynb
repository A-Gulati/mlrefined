{
 "cells": [
  {
   "cell_type": "markdown",
   "metadata": {},
   "source": [
    "# The fundamental theorem of linear algebra"
   ]
  },
  {
   "cell_type": "markdown",
   "metadata": {},
   "source": [
    "Before discussing the concept of kernelization, it will be helpful to first recall a useful fact, generally referred to as the fundamental theorem of linear algebra. This is a simple statement about how to deconstruct an $M$ length vector $\\mathbf{w} \\in \\mathbb{R}^{M}$ over the columns of a given matrix."
   ]
  },
  {
   "cell_type": "markdown",
   "metadata": {},
   "source": [
    "Recall that a set of $M$-dimensional vectors $\\left\\{\\mathbf{f}_p\\right\\}_{p=1}^P$ spans a subspace of dimension $P$, where $P \\leq M$, and that any vector $\\mathbf{w}$ in this subspace can be written as some linear combination of the vectors as\n",
    "\n",
    "\\begin{equation}\n",
    "\\mathbf{w} = \\sum_{p=1}^{P} \\mathbf{f}_p\\,z_p\n",
    "\\end{equation}\n",
    "\n",
    "where $z_p$ are weights associated with $\\mathbf{w}$. By stacking the vectors $\\mathbf{f}_p$ column-wise into an $M \\times P$ matrix $\\mathbf{F}$ and the $z_{p}$'s together into a $P \\times 1$ vector $\\mathbf{z}$ this relationship can be written more compactly as\n",
    "\n",
    "\\begin{equation}\n",
    "\\mathbf{w} = \\mathbf{F}\\mathbf{z}\n",
    "\\end{equation}"
   ]
  },
  {
   "cell_type": "markdown",
   "metadata": {},
   "source": [
    "As illustrated in Figure 1, any vector $\\mathbf{w} \\in \\mathbb{R}^{M}$ can then be decomposed into two pieces: the portion of $\\mathbf{w}$ belonging to the subspace spanned by the columns of $\\mathbf{F}$ and an orthogonal component $\\mathbf{r}$. Formally this decomposition is written as\n",
    "\n",
    "\\begin{equation}\n",
    "\\mathbf{w} = \\mathbf{F}\\mathbf{z}+\\mathbf{r}\n",
    "\\end{equation}\n",
    "\n",
    "Note that $\\mathbf{r}$ being orthogonal to the span of $\\mathbf{F}$’s columns means formally that $\\mathbf{F}^T\\mathbf{r}=\\mathbf{0}_{P \\times 1}$."
   ]
  },
  {
   "cell_type": "markdown",
   "metadata": {},
   "source": [
    "<figure>\n",
    "  <img src= '../../mlrefined_images/kernel_images/Fig_7_1.png' width=\"40%\"/>\n",
    "  <figcaption> \n",
    "      <strong>Figure 1:</strong> \n",
    "      <em> \n",
    "An illustration of the fundamental theorem of linear algebra which states that any vector $\\mathbf{w}$ in an $M$-dimensional space can be decomposed as $\\mathbf{w} = \\mathbf{F}\\mathbf{z}+\\mathbf{r}$. Here the vector $\\mathbf{F}\\mathbf{z}$ belongs in the subspace determined by the columns of the matrix $\\mathbf{F}$ and $\\mathbf{r}$ is orthogonal to this subspace.\n",
    "      </em>\n",
    "  </figcaption>\n",
    "</figure>"
   ]
  },
  {
   "cell_type": "markdown",
   "metadata": {},
   "source": [
    "As we will now see this simple statement is the key to representing fixed basis features more effectively (when used to transform vector valued input for use) with every cost function discussed in this book."
   ]
  }
 ],
 "metadata": {
  "kernelspec": {
   "display_name": "Python 3",
   "language": "python",
   "name": "python3"
  },
  "language_info": {
   "codemirror_mode": {
    "name": "ipython",
    "version": 3
   },
   "file_extension": ".py",
   "mimetype": "text/x-python",
   "name": "python",
   "nbconvert_exporter": "python",
   "pygments_lexer": "ipython3",
   "version": "3.6.5"
  },
  "toc": {
   "colors": {
    "hover_highlight": "#DAA520",
    "navigate_num": "#000000",
    "navigate_text": "#333333",
    "running_highlight": "#FF0000",
    "selected_highlight": "#FFD700",
    "sidebar_border": "#EEEEEE",
    "wrapper_background": "#FFFFFF"
   },
   "moveMenuLeft": true,
   "nav_menu": {
    "height": "197px",
    "width": "252px"
   },
   "navigate_menu": true,
   "number_sections": true,
   "sideBar": true,
   "threshold": 4,
   "toc_cell": false,
   "toc_section_display": "block",
   "toc_window_display": false,
   "widenNotebook": false
  }
 },
 "nbformat": 4,
 "nbformat_minor": 2
}
