{
 "cells": [
  {
   "cell_type": "markdown",
   "metadata": {},
   "source": [
    "# Kernelizing cost functions"
   ]
  },
  {
   "cell_type": "markdown",
   "metadata": {},
   "source": [
    "Suppose that we have a dataset of $P$ points  $\\left\\{\\left(\\mathbf{x}_p,y_p\\right)\\right\\}_{p=1}^P$ where each input $\\mathbf{x}_p$ has dimension $N$. Recall, when employing any fixed feature basis we learn proper parameters by minimizing the Least Squares regression cost\n",
    "\n",
    "\\begin{equation}\n",
    "g\\left(b,\\mathbf{w}\\right) = \\sum_{p=1}^{P} \\left(b+\\mathbf{f}_p^T\\mathbf{w}-y_p\\right)^2\n",
    "\\end{equation}\n",
    "\n",
    "where we have used the vector notation\n",
    "\n",
    "\\begin{equation}\n",
    "\\mathbf{f}_{p}=\\left[\\begin{array}{c}\n",
    "f_{1}\\left(\\mathbf{x}_{p}\\right)\\\\\n",
    "f_{1}\\left(\\mathbf{x}_{p}\\right)\\\\\n",
    "\\vdots\\\\\n",
    "f_{1}\\left(\\mathbf{x}_{p}\\right)\n",
    "\\end{array}\\right]\n",
    "\\end{equation}\n",
    "\n",
    "to denote the $M$ fixed basis feature transformations of the input $\\mathbf{x}_p$. "
   ]
  },
  {
   "cell_type": "markdown",
   "metadata": {},
   "source": [
    "Denote by $\\mathbf{F}$ the $M \\times P$ matrix $\\mathbf{F}$ formed by stacking the vectors $\\mathbf{f}_p$ column-wise. Now, employing the fundamental theorem of linear algebra discussed in the previous section we may write $\\mathbf{w}$ here as\n",
    "\n",
    "\\begin{equation}\n",
    "\\mathbf{w} = \\mathbf{F}\\mathbf{z}+\\mathbf{r}\n",
    "\\end{equation}\n",
    "\n",
    "where $\\mathbf{r}$ satisfies $\\mathbf{F}^T\\mathbf{r}=\\mathbf{0}_{P \\times 1}$.  Plugging this representation of $\\mathbf{w}$ back into the cost function then gives\n",
    "\n",
    "\\begin{equation}\n",
    "\\sum_{p=1}^{P} \\left(b+\\mathbf{f}_p^T\\left(\\mathbf{F}\\mathbf{z}+\\mathbf{r}\\right)-y_p\\right)^2 = \\sum_{p=1}^{P} \\left(b+\\mathbf{f}_p^T\\mathbf{F}\\mathbf{z}-y_p\\right)^2 \n",
    "\\end{equation}"
   ]
  },
  {
   "cell_type": "markdown",
   "metadata": {},
   "source": [
    "Finally, denoting the symmetric matrix $\\mathbf{H} = \\mathbf{F}^T\\mathbf{F}$ (and where $\\mathbf{h}_p = \\mathbf{F}^T\\mathbf{f}_p$ is the $p^{th}$ column of this matrix), referred to as a fixed basis *kernel matrix*, our original cost function becomes equivalently\n",
    "\n",
    "\\begin{equation}\n",
    "g\\left(b,\\mathbf{z}\\right) = \\sum_{p=1}^{P} \\left(b+\\mathbf{h}_p^T\\mathbf{z}-y_p\\right)^2\n",
    "\\end{equation}"
   ]
  },
  {
   "cell_type": "markdown",
   "metadata": {},
   "source": [
    "Note that we have changed the arguments of the cost function from $g\\left(b,\\mathbf{w}\\right)$ to $g\\left(b,\\mathbf{z}\\right)$ due to our substitution of $\\mathbf{w}$. The original problem of minimizing the Least Squares cost may now be written equivalently in this *kernelized form* as\n",
    "\n",
    "\\begin{equation}\n",
    "\\underset{b,\\,\\mathbf{z}}{\\text{minimize}}\\,\\, \\sum_{p=1}^{P} \\left(b+\\mathbf{h}_p^T\\mathbf{z}-y_p\\right)^2\n",
    "\\end{equation}"
   ]
  },
  {
   "cell_type": "markdown",
   "metadata": {},
   "source": [
    "Using precisely the same argument given here we may kernelize all of the cost functions discussed in this book including: the softmax cost/logistic regression classifier, the squared margin-perceptron/soft-margin SVMs, the multiclass softmax cost function, as well as any $\\ell_2$ regularized version of these models. We show both the original and kernelized forms of these formulae in Table 1 for easy reference."
   ]
  },
  {
   "cell_type": "markdown",
   "metadata": {},
   "source": [
    "<figure>\n",
    "  <img src= '../../mlrefined_images/kernel_images/kernel_table.png' width=\"60%\"/>\n",
    "</figure>"
   ]
  }
 ],
 "metadata": {
  "kernelspec": {
   "display_name": "Python 3",
   "language": "python",
   "name": "python3"
  },
  "language_info": {
   "codemirror_mode": {
    "name": "ipython",
    "version": 3
   },
   "file_extension": ".py",
   "mimetype": "text/x-python",
   "name": "python",
   "nbconvert_exporter": "python",
   "pygments_lexer": "ipython3",
   "version": "3.6.5"
  },
  "toc": {
   "colors": {
    "hover_highlight": "#DAA520",
    "navigate_num": "#000000",
    "navigate_text": "#333333",
    "running_highlight": "#FF0000",
    "selected_highlight": "#FFD700",
    "sidebar_border": "#EEEEEE",
    "wrapper_background": "#FFFFFF"
   },
   "moveMenuLeft": true,
   "nav_menu": {
    "height": "197px",
    "width": "252px"
   },
   "navigate_menu": true,
   "number_sections": true,
   "sideBar": true,
   "threshold": 4,
   "toc_cell": false,
   "toc_section_display": "block",
   "toc_window_display": false,
   "widenNotebook": false
  }
 },
 "nbformat": 4,
 "nbformat_minor": 2
}
