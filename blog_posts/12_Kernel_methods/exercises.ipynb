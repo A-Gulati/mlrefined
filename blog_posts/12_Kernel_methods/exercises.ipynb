{
 "cells": [
  {
   "cell_type": "markdown",
   "metadata": {},
   "source": [
    "#### <span style=\"color:#a50e3e;\">Example ?. </span>  Kernelizing the multiclass softmax loss"
   ]
  },
  {
   "cell_type": "markdown",
   "metadata": {},
   "source": [
    "Recall that the multiclass softmax cost function is written as\n",
    "\n",
    "\\begin{equation}\n",
    "g\\left(b_{1},...,b_{C},\\mathbf{w}_{1},...,\\mathbf{w}_{C}\\right)=\\underset{c=1}{\\overset{C}{\\sum}}\\underset{p\\in\\Omega_{c}}{\\sum}\\mbox{log}\\left(1+\\underset{\\underset{j\\neq c}{j=1}}{\\overset{C}{\\sum}}e^{\\left(b_{j}^{\\,}-b_{c}^{\\,}\\right)+\\mathbf{f}_{p}^{T}\\left(\\mathbf{w}_{j}^{\\,}-\\mathbf{w}_{c}^{\\,}\\right)}\\right)\n",
    "\\end{equation}\n",
    "\n",
    "Rewriting each $\\mathbf{w}_{j}$ as $\\mathbf{w}_{j}=\\mathbf{F}\\mathbf{z}_{j}+\\mathbf{r}_{j}$\n",
    "where $\\mathbf{F}^{T}\\mathbf{r}_{j}=\\mathbf{0}_{P\\times1}$ for all\n",
    "$j$ we can rewrite each $\\mathbf{f}_{p}^{T}\\left(\\mathbf{w}_{j}^{\\,}-\\mathbf{w}_{c}^{\\,}\\right)$\n",
    "term as $\\mathbf{f}_{p}^{T}\\left(\\mathbf{w}_{j}^{\\,}-\\mathbf{w}_{c}^{\\,}\\right)=\\mathbf{f}_{p}^{T}\\left(\\mathbf{F}\\left(\\mathbf{z}_{j}-\\mathbf{z}_{c}\\right)+\\left(\\mathbf{r}_{j}-\\mathbf{r}_{c}\\right)\\right)=\\mathbf{f}_{p}^{T}\\mathbf{F}\\left(\\mathbf{z}_{j}-\\mathbf{z}_{c}\\right)$.\n",
    "And denoting $\\mathbf{H}=\\mathbf{F}^{T}\\mathbf{F}$ the kernel matrix\n",
    "this we have that $\\mathbf{f}_{p}^{T}\\left(\\mathbf{w}_{j}^{\\,}-\\mathbf{w}_{c}^{\\,}\\right)=\\mathbf{h}_{p}^{T}\\left(\\mathbf{z}_{j}-\\mathbf{z}_{c}\\right)$, and so the cost may be written eqvuivalently (kernelized) as\n",
    "\n",
    "\\begin{equation}\n",
    "g\\left(b_{1},...,b_{C},\\mathbf{z}_{1},...,\\mathbf{z}_{C}\\right)=\\underset{c=1}{\\overset{C}{\\sum}}\\underset{p\\in\\Omega_{c}}{\\sum}\\mbox{log}\\left(1+\\underset{\\underset{j\\neq c}{j=1}}{\\overset{C}{\\sum}}e^{\\left(b_{j}^{\\,}-b_{c}^{\\,}\\right)+\\mathbf{h}_{p}^{T}\\left(\\mathbf{z}_{j}-\\mathbf{z}_{c}\\right)}\\right)\n",
    "\\end{equation}\n",
    "\n",
    "as shown in Table \\ref{tab:kernelized-versions}."
   ]
  },
  {
   "cell_type": "markdown",
   "metadata": {
    "collapsed": true
   },
   "source": [
    "#### <span style=\"color:#a50e3e;\">Example ?. </span>  Prove the high capacity units grow combinatorially as well"
   ]
  },
  {
   "cell_type": "markdown",
   "metadata": {},
   "source": [
    " For example, if we chose a smaller set of say just those units with the same capacity - e.g., for polynomials this would be all units where $m_1 + m_2 + \\cdots + m_N = D$ - "
   ]
  },
  {
   "cell_type": "markdown",
   "metadata": {
    "collapsed": true
   },
   "source": []
  }
 ],
 "metadata": {
  "kernelspec": {
   "display_name": "Python 3",
   "language": "python",
   "name": "python3"
  },
  "language_info": {
   "codemirror_mode": {
    "name": "ipython",
    "version": 3
   },
   "file_extension": ".py",
   "mimetype": "text/x-python",
   "name": "python",
   "nbconvert_exporter": "python",
   "pygments_lexer": "ipython3",
   "version": "3.5.3"
  }
 },
 "nbformat": 4,
 "nbformat_minor": 2
}
