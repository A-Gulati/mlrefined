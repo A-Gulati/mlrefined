{
 "cells": [
  {
   "cell_type": "markdown",
   "metadata": {},
   "source": [
    "##  Chapter 18: Reinforcement Learning Foundations"
   ]
  },
  {
   "cell_type": "code",
   "execution_count": 1,
   "metadata": {},
   "outputs": [],
   "source": [
    "%load_ext autoreload\n",
    "%autoreload 2"
   ]
  },
  {
   "cell_type": "markdown",
   "metadata": {},
   "source": [
    "<h1 id=\"3.1--Whats-the-use-of-a-recursive-definition-of-$Q$-if-we-don't-know-what-$Q$-is-to-begin-with?\">18.2.1 Resolving $Q$ and the curse of recursion<a class=\"anchor-link\" href=\"#3.1--Whats-the-use-of-a-recursive-definition-of-$Q$-if-we-don't-know-what-$Q$-is-to-begin-with?\">&#182;</a></h1>\n",
    "<p>At first glance the recursive definition of $Q$</p>\n",
    "<p style=\"text-align: center !important;\">$Q\\left(s_{k},\\,a_{k}\\right)=r_{k}+\\underset{i\\in\\varOmega(s_{k+1})}{\\text{maximum}}\\,\\,Q\\left(s_{k+1},\\,\\alpha_{i}\\right)$</p>\n",
    "\n",
    "<p>seems to aid little in helping us determine the optimal $Q$ function. $Q$ is on both sides of the recursive definition above but we don't know $Q$ to begin with. So how does this recursion help?</p>\n",
    "<p>The answer is in the agent's intrinsic ability to interact with the problem environment. The idea here is to initialize $Q$ to some (random) value, run a large number of episodes and update $Q$ via the recursive definition as we go along. This essentially constitutes the training phase of Reinforcement Learning.</p>\n",
    "<p>More specifically, by running through an episode of simulation</p>\n",
    "<p style=\"text-align: center !important;\">($s_1$, $a_1$, $r_1$) $\\rightarrow$ ($s_2$, $a_2$, $r_2$) $\\rightarrow$ ($s_3$, $a_3$, $r_3$) $\\rightarrow$ $\\,\\,\\cdots$</p>\n",
    "<p>we <em>generate data</em> that can be used to resolve the optimal $Q$ function step-by-step via the recursive definition. After initializing $Q$, the agent takes its first action for which it receives the reward $r_1$. Based on this reward, we update $Q\\left(s_{1},\\,a_{1}\\right)$ via </p>\n",
    "\n",
    "<p style=\"text-align: center !important;\">$Q\\left(s_{1},\\,a_{1}\\right)=r_{1}+\\underset{i\\in\\varOmega(s_{2})}{\\text{maximum}}\\,\\,Q\\left(s_{2},\\,\\alpha_{i}\\right)$</p>\n",
    "\n",
    "<p> The agent then takes its second action for which it receives the reward $r_2$, and we update $Q\\left(s_{2},\\,a_{2}\\right)$ via  \n",
    "\n",
    "<p style=\"text-align: center !important;\">$Q\\left(s_{2},\\,a_{2}\\right)=r_{2}+\\underset{i\\in\\varOmega(s_{3})}{\\text{maximum}}\\,\\,Q\\left(s_{3},\\,\\alpha_{i}\\right)$</p>\n",
    "\n",
    "<p>This sequential update process continues until a goal state is reached or a maximum number of steps is taken. The current episode then ends, we begin a new episode, and start updating $Q$ again.</p>\n",
    "<p>Performing enough <em>training episodes</em>  - and subsequent updates to $Q$ - our $Q$ function eventually becomes optimal since by construction it will satisfy the desired recursive definition for all state/action pairs.  You can see that in order for $Q$ to be optimal for all state/action pairs we will need to visit every such pair at least once.  In practice one must typically cycle through each pair multiple times in order for $Q$ to be trained appropriately, or as we will see later, employ function approximators to generalize from a small subset of state/action pairs to the entire space <a href=\"#bib_cell\">[1]</a>.</p>"
   ]
  },
  {
   "cell_type": "markdown",
   "metadata": {},
   "source": [
    "<h1 id=\"3.2--The-basic-Q-Learning-algorithm\">18.2.2 The basic Q-Learning algorithm<a class=\"anchor-link\" href=\"#3.2--The-basic-Q-Learning-algorithm\">&#182;</a></h1>\n",
    "<p>In the most basic approach we run each episode by taking a random initial state, a <strong>random</strong> action, and repeat taking steps until a goal state is reached or maximum number of steps is taken. More precisely, at the $k^{th}$ step we are at a state $s_{k}$ and take a <strong>random</strong> action $a_k$ and update $Q(s_{k},a_k)$ using the recursive definition of $Q$, as </p>\n",
    "<p style=\"text-align: center !important;\">$Q\\left(s_{k},\\,a_{k}\\right)=r_{k}+\\underset{i\\in\\varOmega(s_{k+1})}{\\text{maximum}}\\,\\,Q\\left(s_{k+1},\\,\\alpha_{i}\\right)$</p>\n",
    "<p>\n",
    "Pseudo-code for this basic version of the Q-Learning algorithm is given below.\n",
    "</p>\n",
    "<br>\n",
    "\n",
    "<hr style=\"height:1px;border:none;color:#555;background-color:#555;\">\n",
    "<p style=\"line-height: 1.7;\">\n",
    "<strong>1:</strong>&nbsp;&nbsp; initialize $Q$<br>\n",
    "<strong>2:</strong>&nbsp;&nbsp; set the number of episodes $E$<br>\n",
    "<strong>3:</strong>&nbsp;&nbsp; set the maximum number of steps per episode $T$<br>\n",
    "<strong>4:</strong>&nbsp;&nbsp; <code>for</code> $e$ = $1$, $2$, ..., $E$<br>\n",
    "<strong>5:</strong>&nbsp;&nbsp; &nbsp;&nbsp;&nbsp;&nbsp;&nbsp;&nbsp;$k \\longleftarrow 1$<br>\n",
    "<strong>6:</strong>&nbsp;&nbsp; &nbsp;&nbsp;&nbsp;&nbsp;&nbsp;&nbsp;select a random initial state $s_1$<br>\n",
    "<strong>7:</strong>&nbsp;&nbsp; &nbsp;&nbsp;&nbsp;&nbsp;&nbsp;&nbsp;<code>while</code> goal state not reached <code>and</code> $k \\leq T$<br>\n",
    "<strong>8:</strong>&nbsp;&nbsp; &nbsp;&nbsp;&nbsp;&nbsp;&nbsp;&nbsp;&nbsp;&nbsp;&nbsp;&nbsp;&nbsp;&nbsp;select a valid action $a_k$ at random<br>\n",
    "<strong>9:</strong>&nbsp;&nbsp; &nbsp;&nbsp;&nbsp;&nbsp;&nbsp;&nbsp;&nbsp;&nbsp;&nbsp;&nbsp;&nbsp;&nbsp;record the resulting state $s_{k+1}$ and corresponding reward $r_k$<br>\n",
    "<strong>10:</strong>&nbsp;&nbsp; &nbsp;&nbsp;&nbsp;&nbsp;&nbsp;&nbsp;&nbsp;&nbsp;&nbsp;&nbsp;$Q\\left(s_{k},\\,a_{k}\\right) \\longleftarrow r_{k}+\\underset{i\\in\\varOmega(s_{k+1})}{\\text{maximum}}\\,\\,Q\\left(s_{k+1},\\,\\alpha_{i}\\right)$<br>\n",
    "<strong>11:</strong>&nbsp;&nbsp; &nbsp;&nbsp;&nbsp;&nbsp;&nbsp;&nbsp;&nbsp;&nbsp;&nbsp;&nbsp;$k \\longleftarrow k+1$<br>\n",
    "<strong>12:</strong>&nbsp;&nbsp; &nbsp;&nbsp;&nbsp;&nbsp;<code>end while</code><br>\n",
    "<strong>13:</strong>&nbsp; <code>end for</code><br>\n",
    "<hr style=\"height:1px;border:none;color:#555;background-color:#555;\">\n",
    "</p>\n"
   ]
  },
  {
   "cell_type": "markdown",
   "metadata": {},
   "source": [
    "<h3 id=\"Example:--Applying-Q-learning-to-the-gridworld-maze\"><span style=\"color:#a50e3e;\">Example.</span> &nbsp; Applying Q-learning to Gridworld<a class=\"anchor-link\" href=\"#Example:--Applying-Q-learning-to-the-gridworld-maze\">&#182;</a></h3>\n",
    "<p>We can now use Q-Learning to train an agent for the small Gridworld maze we first saw in part 1.</p>\n"
   ]
  },
  {
   "cell_type": "code",
   "execution_count": 2,
   "metadata": {
    "collapsed": true
   },
   "outputs": [],
   "source": [
    "# import gridworld library - make sure this is executed prior to running any gridworld cell\n",
    "import sys\n",
    "sys.path.append('../../')\n",
    "from mlrefined_libraries import gridworld_library as lib\n",
    "%matplotlib inline"
   ]
  },
  {
   "cell_type": "code",
   "execution_count": 3,
   "metadata": {},
   "outputs": [
    {
     "data": {
      "image/png": "[encoded data removed]",
      "text/plain": [
       "<matplotlib.figure.Figure at 0x1110c6d68>"
      ]
     },
     "metadata": {},
     "output_type": "display_data"
    }
   ],
   "source": [
    "# generate instance of gridworld\n",
    "small_maze = lib.gridworld_enviro.environment(world_size = 'small', world_type = 'maze')\n",
    "\n",
    "# show the grid\n",
    "small_maze.color_gridworld()"
   ]
  },
  {
   "cell_type": "markdown",
   "metadata": {},
   "source": [
    "<p>Recall that with Gridworld our goal is to train the agent (shown in blue) to efficiently reach the goal square (shown in green) while avoiding the hazard squares (shown in red), starting from <em>any</em> square on the grid. The agent can only move up, down, left, and right one square at a time.</p>\n",
    "<p>For this example we preset reward values for the agent at each location on the grid as</p>\n",
    "<br>\n",
    "<p style=\"text-align: center !important;\">$r_{k}=\\begin{cases}\n",
    "-0.001 & \\text{if on standard square}\\\\\n",
    "-1 & \\text{if on hazard square}\\\\\n",
    "0 & \\text{if at goal}\n",
    "\\end{cases}$</p>\n",
    "<br>\n",
    "<p>You can see these values by exposing the following functionality in the Python cells below.</p>"
   ]
  },
  {
   "cell_type": "code",
   "execution_count": 6,
   "metadata": {},
   "outputs": [
    {
     "name": "stdout",
     "output_type": "stream",
     "text": [
      "the standard square reward is preset to -0.001\n",
      "the hazard reward is preset to -1\n",
      "the goal reward is preset to 0\n"
     ]
    }
   ],
   "source": [
    "# show preset rewards and gamma value\n",
    "print ('the standard square reward is preset to ' + str(small_maze.standard_reward))\n",
    "print ('the hazard reward is preset to ' + str(small_maze.hazard_reward))\n",
    "print ('the goal reward is preset to ' + str(small_maze.goal_reward))"
   ]
  },
  {
   "cell_type": "markdown",
   "metadata": {},
   "source": [
    "<p>In the next Python cell we train an agent for this Gridworld via the basic Q-Learning algorithm.</p>\n"
   ]
  },
  {
   "cell_type": "code",
   "execution_count": 7,
   "metadata": {},
   "outputs": [
    {
     "name": "stdout",
     "output_type": "stream",
     "text": [
      "q-learning algorithm complete\n"
     ]
    }
   ],
   "source": [
    "# create an instance of the q-learner\n",
    "qlearner = lib.gridworld_qlearn.learner(gridworld = small_maze)\n",
    "\n",
    "# run q-learning\n",
    "qlearner.train(verbose = False, action_method = 'random',training_episodes = 500)"
   ]
  },
  {
   "cell_type": "markdown",
   "metadata": {},
   "source": [
    "<p>To examine this Q-Learning function enter <code>qlearner.train??</code> into a Python cell and activate. This function contains a few containers and switches used to capture output and control variables, but the heart of the function mirrors the pseudo-code given above.  In the next cell we show the stripped down code at the heart of the function (note: this will not run!)</p>"
   ]
  },
  {
   "cell_type": "code",
   "execution_count": null,
   "metadata": {
    "collapsed": true
   },
   "outputs": [],
   "source": [
    "### start main Q-learning loop ###\n",
    "for n in range(self.training_episodes): \n",
    "    # pick this episode's starting position\n",
    "    grid.agent = self.training_start_schedule[n]\n",
    "\n",
    "    # update Q matrix while loc != goal\n",
    "    episode_history = []      # container for storing this episode's journey\n",
    "    total_episode_reward = 0\n",
    "    for step in range(self.max_steps):   \n",
    "        # update episode history container\n",
    "        episode_history.append(grid.agent)\n",
    "\n",
    "        ### if you reach the goal end current episode immediately\n",
    "        if grid.agent == grid.goal:\n",
    "            break\n",
    "\n",
    "        # translate current agent location tuple into index\n",
    "        s_k_1 = grid.state_tuple_to_index(grid.agent)\n",
    "\n",
    "        # get action\n",
    "        a_k = grid.get_action(method = self.action_method,Q = Q,exploit_param = self.exploit_param)\n",
    "\n",
    "        # move based on this action\n",
    "        s_k = grid.get_movin(action = a_k)\n",
    "\n",
    "        # get reward     \n",
    "        r_k = grid.get_reward(state_index = s_k)          \n",
    "\n",
    "        # update Q\n",
    "        Q[s_k_1,a_k] = r_k + max(Q[s_k,:])\n",
    "\n",
    "        # update current location of agent \n",
    "        grid.agent = grid.state_index_to_tuple(state_index = s_k)"
   ]
  },
  {
   "cell_type": "markdown",
   "metadata": {},
   "source": [
    "<p>Let's now see what each episode of training looks like, where each action is taken randomly to update the $Q$ function. In the next Python cell we animate two of the training episodes. </p>"
   ]
  },
  {
   "cell_type": "code",
   "execution_count": 9,
   "metadata": {},
   "outputs": [
    {
     "data": {
      "image/png": "[encoded data removed]",
      "text/plain": [
       "<matplotlib.figure.Figure at 0x124b8c630>"
      ]
     },
     "metadata": {},
     "output_type": "display_data"
    }
   ],
   "source": [
    "animator = lib.gridworld_animators.animator()\n",
    "animator.draw_arrow_map(small_maze,qlearner.Q)"
   ]
  },
  {
   "cell_type": "markdown",
   "metadata": {},
   "source": [
    "# DP solution"
   ]
  },
  {
   "cell_type": "markdown",
   "metadata": {},
   "source": [
    "First lets setup the maze correctly, using 'costs' instead of 'rewards'."
   ]
  },
  {
   "cell_type": "code",
   "execution_count": 6,
   "metadata": {
    "collapsed": true
   },
   "outputs": [],
   "source": [
    "maze = small_maze"
   ]
  },
  {
   "cell_type": "code",
   "execution_count": 46,
   "metadata": {},
   "outputs": [],
   "source": [
    "# swap out the small_maze 'rewards' with 'costs\n",
    "maze.standard_reward = 1\n",
    "maze.hazard_reward = 500\n",
    "maze.goal_reward = 0"
   ]
  },
  {
   "cell_type": "code",
   "execution_count": 47,
   "metadata": {},
   "outputs": [
    {
     "name": "stdout",
     "output_type": "stream",
     "text": [
      "500\n"
     ]
    }
   ],
   "source": [
    "# a test - for this setup we convert a tuple to index in defining its reward\n",
    "ind = maze.state_tuple_to_index([0,0])\n",
    "r = maze.get_reward(ind)\n",
    "print (r)"
   ]
  },
  {
   "cell_type": "markdown",
   "metadata": {},
   "source": [
    "Now that 'rewards' are 'costs' we can do our DP.  The goal state of this maze is stored via the command below (where we being our DP recursion)."
   ]
  },
  {
   "cell_type": "markdown",
   "metadata": {},
   "source": [
    "Lets give it a whirl."
   ]
  },
  {
   "cell_type": "code",
   "execution_count": 48,
   "metadata": {
    "collapsed": true
   },
   "outputs": [],
   "source": [
    "# DP recursion\n",
    "import copy\n",
    "from autograd import numpy as np"
   ]
  },
  {
   "cell_type": "code",
   "execution_count": 126,
   "metadata": {},
   "outputs": [],
   "source": [
    "### find all valid neighbors of s_t ###\n",
    "def find_neighbors(s_t):\n",
    "    # get all neighbor nodes - in tuple format\n",
    "    neighbors = []\n",
    "    action_inds = []\n",
    "    \n",
    "    # neighbor down\n",
    "    if s_t[0] + 1 < maze.height:    \n",
    "        n_down = copy.deepcopy(s_t)\n",
    "        n_down[0] += 1\n",
    "        neighbors.append(n_down)\n",
    "        action_inds.append(1)\n",
    "        \n",
    "    # neighbor up\n",
    "    if s_t[0] - 1 >= 0:            \n",
    "        n_up = copy.deepcopy(s_t)\n",
    "        n_up[0] -= 1\n",
    "        neighbors.append(n_up)\n",
    "        action_inds.append(0)\n",
    "\n",
    "    # neighbor left\n",
    "    if s_t[1] - 1 >= 0:    \n",
    "        n_left = copy.deepcopy(s_t)\n",
    "        n_left[1] -= 1\n",
    "        neighbors.append(n_left)   \n",
    "        action_inds.append(2)\n",
    "\n",
    "    # neighbor right\n",
    "    if s_t[1] + 1 < maze.width:     \n",
    "        n_right = copy.deepcopy(s_t)\n",
    "        n_right[1] += 1\n",
    "        neighbors.append(n_right)\n",
    "        action_inds.append(3)\n",
    "\n",
    "    return neighbors,action_inds\n",
    "    \n",
    "### create Q to run DP algo on ###\n",
    "def create_queue(s_t,frontier):    \n",
    "    # find neihbors of input node\n",
    "    neighbors,action_inds = find_neighbors(s_t)\n",
    "    \n",
    "    # add any neighbors not in frontier to frontier\n",
    "    new_frontier = []\n",
    "    for node in neighbors:\n",
    "        if node not in frontier:\n",
    "            frontier.append(node)\n",
    "            new_frontier.append(node)\n",
    "            \n",
    "    # recurse\n",
    "    for node in new_frontier:\n",
    "        frontier = create_queue(node,frontier)\n",
    "    return frontier\n",
    "\n",
    "def initialize_Q(queue):\n",
    "    # initialize Q matrix to zeros\n",
    "    Q = np.zeros((maze.width*maze.height,len(maze.action_choices)))\n",
    "    \n",
    "    # set any boundary conditions to zero\n",
    "    for node in queue:\n",
    "        # get neighbors of current node\n",
    "        neighbors,action_inds = find_neighbors(node)\n",
    "        \n",
    "        # any action not allowed --> set Q value to infinity\n",
    "        node_ind = maze.state_tuple_to_index(node)\n",
    "        for i in range(4):\n",
    "            if i not in action_inds:\n",
    "                Q[node_ind,i] = np.inf\n",
    "                \n",
    "    return Q\n",
    "\n",
    "def DP_shortest_path(queue):\n",
    "    # initialize Q matrix  \n",
    "    Q = initialize_Q(queue)\n",
    "\n",
    "    # loop over queue, update Q matrix accordingly\n",
    "    c = 0\n",
    "    for node in queue:\n",
    "        # get neighbors of current node\n",
    "        neighbors,action_inds = find_neighbors(node)\n",
    "        \n",
    "        # translate s_t and neighbor tuples into indecies to get \n",
    "        # instantaneous costs\n",
    "        node_ind = maze.state_tuple_to_index(node)\n",
    "        nbr_inds = [maze.state_tuple_to_index(s) for s in neighbors]        \n",
    "\n",
    "        # update neighbors cost based on costs at node\n",
    "        cost = maze.get_reward(state_index = node_ind)\n",
    "        q_t = np.min(Q[node_ind,:])\n",
    "        totes = cost + q_t\n",
    "\n",
    "        for i in range(len(neighbors)):\n",
    "            # compute instantaneous cost\n",
    "            s_t = nbr_inds[i]                \n",
    "\n",
    "            # determine location of neighbor\n",
    "            a_t = action_inds[i]\n",
    "            if a_t == 0 or a_t == 1:\n",
    "                a_t = np.mod(a_t + 1,2)\n",
    "            #if a_t == 2 or a_t == 3:\n",
    "            #    a_t = np.mod(a_t ,2) + 2\n",
    "            \n",
    "            # update Q function appropriately\n",
    "            Q[s_t,a_t] = totes\n",
    "        \n",
    "    return Q"
   ]
  },
  {
   "cell_type": "code",
   "execution_count": 127,
   "metadata": {},
   "outputs": [],
   "source": [
    "# create queue\n",
    "s_t = maze.goal\n",
    "frontier = [s_t]\n",
    "final_frontier = create_queue(s_t,frontier)\n",
    "Q = initialize_Q(frontier)\n",
    "\n",
    "# run DP \n",
    "Q = DP_shortest_path(final_frontier)"
   ]
  },
  {
   "cell_type": "code",
   "execution_count": 128,
   "metadata": {},
   "outputs": [
    {
     "data": {
      "text/plain": [
       "[9, 12]"
      ]
     },
     "execution_count": 128,
     "metadata": {},
     "output_type": "execute_result"
    }
   ],
   "source": [
    "s_t"
   ]
  },
  {
   "cell_type": "code",
   "execution_count": 129,
   "metadata": {},
   "outputs": [
    {
     "name": "stdout",
     "output_type": "stream",
     "text": [
      "             down          up   left  right\n",
      "0,0           inf  500.000000  500.0    0.0\n",
      "0,1           inf    1.000000  500.0  500.0\n",
      "0,2           inf    1.000000  500.0  500.0\n",
      "0,3           inf    1.000000  500.0  500.0\n",
      "0,4           inf    1.000000  500.0  500.0\n",
      "0,5           inf    1.000000  500.0  500.0\n",
      "0,6           inf    1.000000  500.0  500.0\n",
      "0,7           inf    1.000000  500.0  500.0\n",
      "0,8           inf    1.000000  500.0  500.0\n",
      "0,9           inf    1.000000  500.0  500.0\n",
      "0,10          inf    1.000000  500.0  500.0\n",
      "0,11          inf    1.000000  500.0  500.0\n",
      "0,12          inf  500.000000    0.0  500.0\n",
      "1,0    500.000000  500.000000    1.0    0.0\n",
      "1,1    500.000000    1.000000    1.0  500.0\n",
      "1,2    500.000000  500.000000    1.0    1.0\n",
      "1,3    500.000000  500.000000    1.0    1.0\n",
      "1,4    500.000000  500.000000    1.0    1.0\n",
      "1,5    500.000000  500.000000    1.0    1.0\n",
      "1,6    500.000000  500.000000    1.0    1.0\n",
      "1,7    500.000000  500.000000    1.0    1.0\n",
      "1,8    500.000000  500.000000    1.0    1.0\n",
      "1,9    500.000000    1.000000    1.0    1.0\n",
      "1,10   500.000000  500.000000    1.0    1.0\n",
      "1,11   500.000000    1.000000  500.0    1.0\n",
      "1,12   500.000000  500.000000    0.0    1.0\n",
      "2,0    500.000000  500.000000    1.0    0.0\n",
      "2,1      1.000000    1.000000  500.0  500.0\n",
      "2,2      1.000000  500.000000  500.0    1.0\n",
      "2,3      1.000000    1.000000  500.0  500.0\n",
      "...           ...         ...    ...    ...\n",
      "8,9      1.000000    1.000000  500.0  500.0\n",
      "8,10     1.000000    1.000000  500.0  500.0\n",
      "8,11     1.000000    1.000000  500.0  500.0\n",
      "8,12   500.000000    0.000000    0.0  500.0\n",
      "9,0    500.000000  500.000000    1.0    0.0\n",
      "9,1    500.000000  500.000000    1.0    1.0\n",
      "9,2    500.000000  500.000000    1.0    1.0\n",
      "9,3      1.000000  500.000000  500.0    1.0\n",
      "9,4    500.000000  500.000000    1.0    1.0\n",
      "9,5    500.000000  500.000000    1.0  500.0\n",
      "9,6    500.000000  500.000000    1.0    1.0\n",
      "9,7      1.000000  500.000000    1.0    1.0\n",
      "9,8    500.000000  500.000000    1.0    1.0\n",
      "9,9    500.000000  500.000000    1.0    1.0\n",
      "9,10   500.000000  500.000000    1.0    1.0\n",
      "9,11   500.000000  500.000000    0.0    1.0\n",
      "9,12   500.000000  500.000000    0.0    1.0\n",
      "10,0     1.000000         inf  500.0    0.0\n",
      "10,1     1.000000         inf  500.0  500.0\n",
      "10,2     1.000000         inf  500.0  500.0\n",
      "10,3     1.000000         inf  500.0  500.0\n",
      "10,4   500.000000         inf  500.0  500.0\n",
      "10,5     1.000000         inf  500.0  500.0\n",
      "10,6     1.000000         inf  500.0  500.0\n",
      "10,7     1.000000         inf  500.0  500.0\n",
      "10,8     1.000000         inf  500.0  500.0\n",
      "10,9     1.000000         inf  500.0  500.0\n",
      "10,10    1.000000         inf  500.0  500.0\n",
      "10,11    1.000000         inf  500.0  500.0\n",
      "10,12    0.000000         inf    0.0  500.0\n",
      "\n",
      "[143 rows x 4 columns]\n"
     ]
    }
   ],
   "source": [
    "import pandas as pd\n",
    "\n",
    "# print out Q matrix\n",
    "df = pd.DataFrame(Q,columns=['down','up','left','right'], index=small_maze.states)\n",
    "print (df.round(3))   "
   ]
  },
  {
   "cell_type": "code",
   "execution_count": 130,
   "metadata": {},
   "outputs": [
    {
     "data": {
      "image/png": "[encoded data removed]",
      "text/plain": [
       "<matplotlib.figure.Figure at 0x12632d748>"
      ]
     },
     "metadata": {},
     "output_type": "display_data"
    }
   ],
   "source": [
    "animator = lib.gridworld_animators.animator()\n",
    "animator.draw_DP_arrow_map(small_maze,Q)"
   ]
  },
  {
   "cell_type": "code",
   "execution_count": 33,
   "metadata": {},
   "outputs": [
    {
     "data": {
      "text/plain": [
       "[9, 12]"
      ]
     },
     "execution_count": 33,
     "metadata": {},
     "output_type": "execute_result"
    }
   ],
   "source": [
    "maze.goal"
   ]
  },
  {
   "cell_type": "code",
   "execution_count": 39,
   "metadata": {},
   "outputs": [
    {
     "data": {
      "text/plain": [
       "[[9, 12],\n",
       " [10, 12],\n",
       " [8, 12],\n",
       " [9, 11],\n",
       " [10, 11],\n",
       " [10, 10],\n",
       " [9, 10],\n",
       " [10, 9],\n",
       " [8, 10],\n",
       " [9, 9],\n",
       " [7, 10],\n",
       " [8, 9],\n",
       " [8, 11],\n",
       " [6, 10],\n",
       " [7, 9],\n",
       " [7, 11],\n",
       " [5, 10],\n",
       " [6, 9],\n",
       " [6, 11],\n",
       " [4, 10],\n",
       " [5, 9],\n",
       " [5, 11],\n",
       " [3, 10],\n",
       " [4, 9],\n",
       " [4, 11],\n",
       " [2, 10],\n",
       " [3, 9],\n",
       " [3, 11],\n",
       " [1, 10],\n",
       " [2, 9],\n",
       " [2, 11],\n",
       " [0, 10],\n",
       " [1, 9],\n",
       " [1, 11],\n",
       " [0, 9],\n",
       " [0, 11],\n",
       " [0, 8],\n",
       " [1, 8],\n",
       " [0, 7],\n",
       " [2, 8],\n",
       " [1, 7],\n",
       " [3, 8],\n",
       " [2, 7],\n",
       " [4, 8],\n",
       " [3, 7],\n",
       " [5, 8],\n",
       " [4, 7],\n",
       " [6, 8],\n",
       " [5, 7],\n",
       " [7, 8],\n",
       " [6, 7],\n",
       " [8, 8],\n",
       " [7, 7],\n",
       " [9, 8],\n",
       " [8, 7],\n",
       " [10, 8],\n",
       " [9, 7],\n",
       " [10, 7],\n",
       " [10, 6],\n",
       " [9, 6],\n",
       " [10, 5],\n",
       " [8, 6],\n",
       " [9, 5],\n",
       " [7, 6],\n",
       " [8, 5],\n",
       " [6, 6],\n",
       " [7, 5],\n",
       " [5, 6],\n",
       " [6, 5],\n",
       " [4, 6],\n",
       " [5, 5],\n",
       " [3, 6],\n",
       " [4, 5],\n",
       " [2, 6],\n",
       " [3, 5],\n",
       " [1, 6],\n",
       " [2, 5],\n",
       " [0, 6],\n",
       " [1, 5],\n",
       " [0, 5],\n",
       " [0, 4],\n",
       " [1, 4],\n",
       " [0, 3],\n",
       " [2, 4],\n",
       " [1, 3],\n",
       " [3, 4],\n",
       " [2, 3],\n",
       " [4, 4],\n",
       " [3, 3],\n",
       " [5, 4],\n",
       " [4, 3],\n",
       " [6, 4],\n",
       " [5, 3],\n",
       " [7, 4],\n",
       " [6, 3],\n",
       " [8, 4],\n",
       " [7, 3],\n",
       " [9, 4],\n",
       " [8, 3],\n",
       " [10, 4],\n",
       " [9, 3],\n",
       " [10, 3],\n",
       " [10, 2],\n",
       " [9, 2],\n",
       " [10, 1],\n",
       " [8, 2],\n",
       " [9, 1],\n",
       " [7, 2],\n",
       " [8, 1],\n",
       " [6, 2],\n",
       " [7, 1],\n",
       " [5, 2],\n",
       " [6, 1],\n",
       " [4, 2],\n",
       " [5, 1],\n",
       " [3, 2],\n",
       " [4, 1],\n",
       " [2, 2],\n",
       " [3, 1],\n",
       " [1, 2],\n",
       " [2, 1],\n",
       " [0, 2],\n",
       " [1, 1],\n",
       " [0, 1],\n",
       " [0, 0],\n",
       " [1, 0],\n",
       " [2, 0],\n",
       " [3, 0],\n",
       " [4, 0],\n",
       " [5, 0],\n",
       " [6, 0],\n",
       " [7, 0],\n",
       " [8, 0],\n",
       " [9, 0],\n",
       " [10, 0],\n",
       " [0, 12],\n",
       " [1, 12],\n",
       " [2, 12],\n",
       " [3, 12],\n",
       " [4, 12],\n",
       " [5, 12],\n",
       " [6, 12],\n",
       " [7, 12]]"
      ]
     },
     "execution_count": 39,
     "metadata": {},
     "output_type": "execute_result"
    }
   ],
   "source": [
    "frontier"
   ]
  },
  {
   "cell_type": "code",
   "execution_count": null,
   "metadata": {
    "collapsed": true
   },
   "outputs": [],
   "source": []
  }
 ],
 "metadata": {
  "anaconda-cloud": {},
  "kernelspec": {
   "display_name": "Python 3",
   "language": "python",
   "name": "python3"
  },
  "language_info": {
   "codemirror_mode": {
    "name": "ipython",
    "version": 3
   },
   "file_extension": ".py",
   "mimetype": "text/x-python",
   "name": "python",
   "nbconvert_exporter": "python",
   "pygments_lexer": "ipython3",
   "version": "3.5.3"
  },
  "toc": {
   "colors": {
    "hover_highlight": "#DAA520",
    "navigate_num": "#000000",
    "navigate_text": "#333333",
    "running_highlight": "#FF0000",
    "selected_highlight": "#FFD700",
    "sidebar_border": "#EEEEEE",
    "wrapper_background": "#FFFFFF"
   },
   "moveMenuLeft": true,
   "nav_menu": {
    "height": "214px",
    "width": "252px"
   },
   "navigate_menu": true,
   "number_sections": false,
   "sideBar": true,
   "threshold": 4,
   "toc_cell": false,
   "toc_section_display": "block",
   "toc_window_display": false,
   "widenNotebook": false
  },
  "widgets": {
   "application/vnd.jupyter.widget-state+json": {
    "state": {},
    "version_major": 1,
    "version_minor": 0
   }
  }
 },
 "nbformat": 4,
 "nbformat_minor": 1
}
