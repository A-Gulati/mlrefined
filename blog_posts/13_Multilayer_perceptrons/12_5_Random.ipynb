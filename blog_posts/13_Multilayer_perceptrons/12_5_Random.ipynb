{
 "cells": [
  {
   "cell_type": "markdown",
   "metadata": {},
   "source": [
    "## 12.1.3  Random kernels"
   ]
  },
  {
   "cell_type": "markdown",
   "metadata": {},
   "source": [
    "- The notion of a random kernel is a slight twist on the classic kernels above, but is a far more recent development.\n",
    "\n",
    "\n",
    "- Simple example of random kernel: using random units from any of the classic kernels detailed above (instead of using packages, which have serious scaling issues)\n",
    "\n",
    "\n",
    "\n",
    "- Other examples: choose a sinusoid with random internal parameters instead of integer / single layer neural networks with *randomly set internal parameters*.  \n",
    "\n",
    "\n",
    "\n",
    "- These do not suffer from the scaling issues that the standard packages do"
   ]
  },
  {
   "cell_type": "markdown",
   "metadata": {},
   "source": [
    "#### <span style=\"color:#a50e3e;\">Example 3. </span>  Random sinusoidal kernel"
   ]
  },
  {
   "cell_type": "markdown",
   "metadata": {},
   "source": [
    "<a id='bib_cell'></a>\n",
    "\n",
    "## References\n",
    "\n",
    "[1] Léon Bottou and Chih-Jen Lin. Support vector machine solvers. Large Scale Kernel Machines, pp. 301–320, MIT Press, 2007.\n",
    "\n",
    "[2] Zhiyun Lu, Avner May, Kuan Liu, et al. How to scale up kernel methods to be as good as\n",
    "deep neural nets. arXiv preprint arXiv:1411.4000, 2014.\n",
    "\n",
    "[3] Jeffrey Pennington, Felix Yu, and Sanjiv Kumar. Spherical random features for polynomial kernels. In Advances in Neural Information Processing Systems, pages 1837–1845, NIPS, 2015.\n",
    "\n",
    "[4] Ali Rahimi and Benjamin Recht. Random features for large-scale kernel machines. In Advances in Neural Information Processing Systems, pp. 1177–1184, NIPS, 2007.\n",
    "\n",
    "[5] Ali Rahimi and Benjamin Recht. Uniform approximation of functions with random bases. In Communication, Control, and Computing, 2008 46th Annual Allerton Conference on, pp. 555–561. IEEE, 2008.\n",
    "\n",
    "[6] Christopher M Bishop et al. Pattern Recognition and Machine Learning, volume 4. Springer, 2006.\n",
    "\n",
    "[7] David J C MacKay. Introduction to gaussian processes. NATO ASI Series F Computer and\n",
    "Systems Sciences, 168 133–166, 1998."
   ]
  },
  {
   "cell_type": "code",
   "execution_count": null,
   "metadata": {
    "collapsed": true
   },
   "outputs": [],
   "source": []
  },
  {
   "cell_type": "code",
   "execution_count": null,
   "metadata": {
    "collapsed": true
   },
   "outputs": [],
   "source": []
  }
 ],
 "metadata": {
  "kernelspec": {
   "display_name": "Python 3",
   "language": "python",
   "name": "python3"
  },
  "language_info": {
   "codemirror_mode": {
    "name": "ipython",
    "version": 3
   },
   "file_extension": ".py",
   "mimetype": "text/x-python",
   "name": "python",
   "nbconvert_exporter": "python",
   "pygments_lexer": "ipython3",
   "version": "3.5.3"
  }
 },
 "nbformat": 4,
 "nbformat_minor": 2
}
