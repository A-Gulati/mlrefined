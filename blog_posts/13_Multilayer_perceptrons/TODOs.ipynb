{
 "cells": [
  {
   "cell_type": "markdown",
   "metadata": {},
   "source": [
    "With network-based models optimization based on large range of ideas\n",
    "\n",
    "- Introduction and motivation\n",
    "\n",
    "- Activation function\n",
    "\n",
    "- advanced optimization principles (e.g., momentum, stochastic gradient descent) (DONE)\n",
    "\n",
    "- Batch normalization (DONE)\n",
    "\n",
    "- Other tricks like Regularization (MOVE TO EXERCISES)\n",
    "\n",
    "- Early stopping (DONE)\n",
    "\n",
    "- Backprop\n",
    "\n",
    "- Dropout"
   ]
  },
  {
   "cell_type": "code",
   "execution_count": null,
   "metadata": {
    "collapsed": true
   },
   "outputs": [],
   "source": []
  }
 ],
 "metadata": {
  "kernelspec": {
   "display_name": "Python 3",
   "language": "python",
   "name": "python3"
  },
  "language_info": {
   "codemirror_mode": {
    "name": "ipython",
    "version": 3
   },
   "file_extension": ".py",
   "mimetype": "text/x-python",
   "name": "python",
   "nbconvert_exporter": "python",
   "pygments_lexer": "ipython3",
   "version": "3.5.3"
  }
 },
 "nbformat": 4,
 "nbformat_minor": 2
}
