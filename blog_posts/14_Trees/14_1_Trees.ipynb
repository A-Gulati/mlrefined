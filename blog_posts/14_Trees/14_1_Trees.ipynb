{
 "cells": [
  {
   "cell_type": "markdown",
   "metadata": {},
   "source": [
    "## Chapter 14: Tree-based learners"
   ]
  },
  {
   "cell_type": "markdown",
   "metadata": {},
   "source": [
    "# 14.1  From stumps to deep trees"
   ]
  },
  {
   "cell_type": "markdown",
   "metadata": {},
   "source": [
    "In Section 11.1 we saw the simplest exemplar of a tree-based learner: the stump. In this Section we discuss how, using simple stumps, we can define general and more complex tree-based universal approximators in a recursive manner."
   ]
  },
  {
   "cell_type": "code",
   "execution_count": 2,
   "metadata": {
    "collapsed": true
   },
   "outputs": [],
   "source": [
    "## This code cell will not be shown in the HTML version of this notebook\n",
    "# imports from custom library\n",
    "import sys\n",
    "sys.path.append('../../')\n",
    "import autograd.numpy as np\n",
    "from mlrefined_libraries import math_optimization_library as optlib\n",
    "\n",
    "from mlrefined_libraries import nonlinear_superlearn_library as nonlib\n",
    "datapath = '../../mlrefined_datasets/nonlinear_superlearn_datasets/'\n",
    "\n",
    "static_plotter = optlib.static_plotter.Visualizer()\n",
    "regress_plotter = nonlib.nonlinear_regression_demos\n",
    "\n",
    "\n",
    "# this is needed to compensate for %matplotlib notebook's tendancy to blow up images when plotted inline\n",
    "from matplotlib import rcParams\n",
    "rcParams['figure.autolayout'] = True\n",
    "%matplotlib notebook\n",
    "\n",
    "# plotting\n",
    "import matplotlib.pyplot as plt\n",
    "import copy\n",
    "\n",
    "%load_ext autoreload\n",
    "%autoreload 2"
   ]
  },
  {
   "cell_type": "markdown",
   "metadata": {},
   "source": [
    "## The stump"
   ]
  },
  {
   "cell_type": "markdown",
   "metadata": {},
   "source": [
    "The most basic tree-based universal approximator, the stump, defined as \n",
    "\n",
    "\\begin{equation}\n",
    "f\\left(x\\right)=\\begin{cases}\n",
    "\\begin{array}{c}\n",
    "v_{1}\\\\\n",
    "v_{2}\n",
    "\\end{array} & \\begin{array}{c}\n",
    "x<s\\\\\n",
    "x>s\n",
    "\\end{array}\\end{cases}\n",
    "\\end{equation}\n",
    "\n",
    "is a simple step function with three parameters: two step levels or *leaf* parameters denoted by $v_1$ and $v_2$ (whose values are set independently of one another), and a split point parameter $s$ defining the boundary between the two levels (see the left panel of Figure below). In the right panel of this Figure we show another graphical representation of Equation (1) which helps explain the particular nomenclature (tree, leaf, etc.) used in the context of tree-based approximators. Represented this way, the stump can be thought of as a binary tree structure of depth one with $f(x)$ as its root node, and $v_1$ and $v_2$ as its leaf nodes. Conceptually speaking there are two approaches to building more flexible (or *deeper*) trees using stumps, which we discuss next.      "
   ]
  },
  {
   "cell_type": "markdown",
   "metadata": {},
   "source": [
    "<figure>\n",
    "<p>\n",
    "  <img src= '../../mlrefined_images/nonlinear_superlearn_images/tree_depth_1_2.png' width=\"85%\" height=\"65%\" alt=\"\"/>\n",
    "</p>\n",
    "<figcaption> <strong>Figure 1:</strong> <em> \n",
    "(top left) A simple stump, defined in Equation (1), has three parameters: $v_1$, $v_2$, and $s$. (top right) An illustration of a stump function as a binary tree structure of depth one. (bottom panels) Recursive construction of depth two tree from a depth one tree. \n",
    "</em>\n",
    "</figcaption>\n",
    "</figure>"
   ]
  },
  {
   "cell_type": "markdown",
   "metadata": {},
   "source": [
    "## Creating high capacity trees via recursion"
   ]
  },
  {
   "cell_type": "markdown",
   "metadata": {},
   "source": [
    "The first approach to creating high capacity tree units entails *recursion* where each leaf of a depth one tree (a stump) is recursively split up into two new leaves, introducing two new split points and creating a total of four distinct leaves. This gives us a *tree of depth two* as illustrated in the bottom row of Figure above. Notice how a depth two tree has significantly greater capacity than its stump relative shown in the top row, since the location of the split points and values set to the levels can be set in a multitude of ways. "
   ]
  },
  {
   "cell_type": "markdown",
   "metadata": {},
   "source": [
    "Using recursion we can construct deeper trees in a similar manner. One can easily show that a tree of general depth $D$ will have $2^D-1$ split points and $2^D$ leaves, thus $2^{D+1}-1$ tunable parameters in total. The deeper a tree becomes the more capacity it gains, being able to take on a wider variety of shapes. For example, in Figure below we compare $4$ instances of a depth $D=2$ tree (top row) with $4$ instances of a depth $D=10$ tree (bottom row) where all parameters are set randomly. Note here that for visualization purposes the leaves of each tree are connected by vertical lines, which is commonly done when visualizing tree-based units."
   ]
  },
  {
   "cell_type": "code",
   "execution_count": 4,
   "metadata": {},
   "outputs": [
    {
     "data": {
      "image/png": "[encoded data removed]",
      "text/plain": [
       "<Figure size 648x216 with 4 Axes>"
      ]
     },
     "metadata": {},
     "output_type": "display_data"
    },
    {
     "data": {
      "image/png": "[encoded data removed]",
      "text/plain": [
       "<Figure size 648x216 with 4 Axes>"
      ]
     },
     "metadata": {},
     "output_type": "display_data"
    }
   ],
   "source": [
    "## This code cell will not be shown in the HTML version of this notebook\n",
    "def build_stump(s,L1,L2,x):\n",
    "    stump = []\n",
    "    for pt in x:\n",
    "        if pt < s:\n",
    "            stump.append(L1)\n",
    "        else:\n",
    "            stump.append(L2)\n",
    "    stump = np.array(stump).flatten()\n",
    "    return stump\n",
    "\n",
    "def build_random_tree(D):    \n",
    "    # input space\n",
    "    x = np.linspace(0,1,100)\n",
    "    \n",
    "    # build tree\n",
    "    fm = np.zeros((100,1)).flatten()\n",
    "    for d in range(D):\n",
    "        # make stump element\n",
    "        s = np.random.rand(1)\n",
    "        L1 = np.random.randn(1)\n",
    "        L2 = np.random.randn(1)\n",
    "        new = build_stump(s,L1,L2,x)\n",
    "        \n",
    "        # add to current\n",
    "        fm += new\n",
    "    return fm\n",
    "\n",
    "def plot_trees(D,num_instances):\n",
    "    # figure\n",
    "    fig = plt.figure(figsize = (9,3))\n",
    "    x = np.linspace(0,1,100)\n",
    "\n",
    "    # loop over and create instances\n",
    "    for n in range(num_instances):\n",
    "        # create tree \n",
    "        fm = build_random_tree(D)\n",
    "        \n",
    "        # plot the current element\n",
    "        ax = fig.add_subplot(1,num_instances,n+1)\n",
    "        ax.plot(x,fm,c='r',zorder = 3,linewidth = 3)\n",
    "        ax.set_title('$f$ instance ' + str(n),fontsize = 18)\n",
    "\n",
    "        # clean up plot\n",
    "        ax.grid(True, which='both')\n",
    "        #ax.axhline(y=0, color='k')\n",
    "        #ax.axvline(x=0, color='k')\n",
    "        ax.axis('off')\n",
    "    plt.show()\n",
    "    \n",
    "# use plotting tool\n",
    "D = 2\n",
    "num_stumps = D + 1\n",
    "num_instances = 4\n",
    "plot_trees(num_stumps,num_instances)\n",
    "\n",
    "\n",
    "# use plotting tool\n",
    "D = 10\n",
    "num_stumps = D + 1\n",
    "num_instances = 4\n",
    "plot_trees(num_stumps,num_instances)"
   ]
  },
  {
   "cell_type": "markdown",
   "metadata": {},
   "source": [
    "## Creating high capacity trees via addition"
   ]
  },
  {
   "cell_type": "markdown",
   "metadata": {},
   "source": [
    "Deeper, more flexible trees can also be constructed via *addition* of shallower trees in general, and stumps in particular. For instance, Figure 2 illustrates how a depth two tree can be made via addition of three depth one trees (stumps)."
   ]
  },
  {
   "cell_type": "markdown",
   "metadata": {},
   "source": [
    "<figure>\n",
    "<p>\n",
    "  <img src= '../../mlrefined_images/nonlinear_superlearn_images/tree_addition.png' width=\"85%\" height=\"65%\" alt=\"\"/>\n",
    "</p>\n",
    "<figcaption> <strong>Figure 2:</strong> <em> \n",
    "(left) Three stumps, each depicted in a distinct color. (right) A depth two tree (in black), made via addition of the three depth one trees shown in the left panel.\n",
    "</em>\n",
    "</figcaption>\n",
    "</figure>"
   ]
  },
  {
   "cell_type": "markdown",
   "metadata": {
    "collapsed": true
   },
   "source": [
    "Although Equation (1) shows the most common way of parameterizing a simple stump, it is also possible to write a stump in a slightly different but equivalent way, replacing the leaf parameters with what can be interpreted as a bias and a weight, in a manner resembling what we have seen before with fixed-shape and neural network approximators. More specifically, the stump in Equation (1) can be written as\n",
    "\n",
    "\\begin{equation}\n",
    "f(x) = b + w\\,h(x)\n",
    "\\end{equation}\n",
    "\n",
    "\n",
    "where $b$ represents the bias parameter, $w$ is the weight attached to $h(x)$, and $h$ itself is a step function with fixed levels and a split at $x=s$ \n",
    "\n",
    "\\begin{equation}\n",
    "h\\left(x\\right)=\\begin{cases}\n",
    "\\begin{array}{c}\n",
    "0 \\\\\n",
    "1\n",
    "\\end{array} & \\begin{array}{c}\n",
    "x<s\\\\\n",
    "x>s\n",
    "\\end{array}\\end{cases}\n",
    "\\end{equation}\n",
    " \n",
    "This alternative perspective is particularly is useful in the context of boosting as discussed previously in Chapter 11."
   ]
  }
 ],
 "metadata": {
  "kernelspec": {
   "display_name": "Python 3",
   "language": "python",
   "name": "python3"
  },
  "language_info": {
   "codemirror_mode": {
    "name": "ipython",
    "version": 3
   },
   "file_extension": ".py",
   "mimetype": "text/x-python",
   "name": "python",
   "nbconvert_exporter": "python",
   "pygments_lexer": "ipython3",
   "version": "3.5.3"
  },
  "toc": {
   "colors": {
    "hover_highlight": "#DAA520",
    "navigate_num": "#000000",
    "navigate_text": "#333333",
    "running_highlight": "#FF0000",
    "selected_highlight": "#FFD700",
    "sidebar_border": "#EEEEEE",
    "wrapper_background": "#FFFFFF"
   },
   "moveMenuLeft": true,
   "nav_menu": {
    "height": "174px",
    "width": "252px"
   },
   "navigate_menu": true,
   "number_sections": true,
   "sideBar": true,
   "threshold": 4,
   "toc_cell": false,
   "toc_section_display": "block",
   "toc_window_display": false,
   "widenNotebook": false
  },
  "widgets": {
   "application/vnd.jupyter.widget-state+json": {
    "state": {},
    "version_major": 1,
    "version_minor": 0
   }
  }
 },
 "nbformat": 4,
 "nbformat_minor": 2
}
