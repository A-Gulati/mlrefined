{
 "cells": [
  {
   "cell_type": "code",
   "execution_count": 1,
   "metadata": {
    "collapsed": true
   },
   "outputs": [],
   "source": [
    "import text_parsing_utils as util\n",
    "import numpy as np"
   ]
  },
  {
   "cell_type": "markdown",
   "metadata": {},
   "source": [
    "# load in text, preprocess, and parse into words"
   ]
  },
  {
   "cell_type": "code",
   "execution_count": 2,
   "metadata": {
    "collapsed": true
   },
   "outputs": [],
   "source": [
    "# load in and preprocess text\n",
    "csvname = \"war_of_the_worlds.txt\"\n",
    "text = util.load_preprocess(csvname)"
   ]
  },
  {
   "cell_type": "code",
   "execution_count": 3,
   "metadata": {
    "collapsed": true
   },
   "outputs": [],
   "source": [
    "# parse into individual words\n",
    "tokens,keys,words_to_keys,keys_to_words = util.parse_words(text)"
   ]
  },
  {
   "cell_type": "markdown",
   "metadata": {},
   "source": [
    "# Markov model - words"
   ]
  },
  {
   "cell_type": "code",
   "execution_count": 4,
   "metadata": {
    "collapsed": true
   },
   "outputs": [],
   "source": [
    "# get unique keys - for dimension of transition matrix \n",
    "unique_keys = np.unique(keys)\n",
    "num_unique_words = len(unique_keys)\n",
    "num_words = len(tokens)"
   ]
  },
  {
   "cell_type": "code",
   "execution_count": 10,
   "metadata": {
    "collapsed": true
   },
   "outputs": [],
   "source": [
    "# generate initial zeros order N transition matrix\n",
    "# use a dictionary - or else this for sure won't scale \n",
    "# to any order > 1\n",
    "transition_matrix = {}\n",
    "\n",
    "# sweep through tokens list, update each individual distribution\n",
    "# as you go - each one a column\n",
    "order = 1\n",
    "for i in range(order,num_words):\n",
    "    # grab current key, and previous order keys\n",
    "    next_key = keys[i]\n",
    "    prev_keys = tuple(keys[i-order:i])\n",
    "    \n",
    "    ## update transition matrix\n",
    "    # we've seen current key already\n",
    "    if prev_keys in transition_matrix.keys():\n",
    "        if next_key in transition_matrix[prev_keys].keys():\n",
    "            transition_matrix[prev_keys][next_key] += 1\n",
    "        else:\n",
    "            transition_matrix[prev_keys][next_key] = 1\n",
    "    else:      # we haven't seen key already, so create new subdict\n",
    "        transition_matrix[prev_keys] = {}\n",
    "        transition_matrix[prev_keys][next_key] = 1"
   ]
  },
  {
   "cell_type": "code",
   "execution_count": 11,
   "metadata": {
    "collapsed": true
   },
   "outputs": [],
   "source": [
    "# use transition matrix to generate sentence of desired length\n",
    "# starting at randomly chosen word (all of this is done using\n",
    "# the associated keys, then re-translated into words)\n",
    "starter_ind = np.random.permutation(keys)[0]\n",
    "generated_keys = keys[starter_ind:starter_ind+order]"
   ]
  },
  {
   "cell_type": "code",
   "execution_count": 12,
   "metadata": {
    "collapsed": true
   },
   "outputs": [],
   "source": [
    "num_produce = 100   # number of words to produce\n",
    "for i in range(num_produce):\n",
    "    # get current key\n",
    "    prev_keys = tuple(generated_keys[i:i+order])\n",
    "    \n",
    "    # use maximum index of this distribution in transition matrix\n",
    "    # to get next key\n",
    "    stats = transition_matrix[prev_keys]\n",
    "    next_key = max(stats, key=lambda key: stats[key])\n",
    "    \n",
    "    # store next key\n",
    "    generated_keys.append(next_key)"
   ]
  },
  {
   "cell_type": "code",
   "execution_count": 13,
   "metadata": {
    "collapsed": true
   },
   "outputs": [],
   "source": [
    "# translate generated keys back into words and print\n",
    "generated_words = []\n",
    "for key in generated_keys:\n",
    "    word = keys_to_words[key]\n",
    "    generated_words.append(word)"
   ]
  },
  {
   "cell_type": "code",
   "execution_count": 14,
   "metadata": {},
   "outputs": [
    {
     "data": {
      "text/plain": [
       "'garden there was the martians were the martians were the martians were the martians were the martians were the martians were the martians were the martians were the martians were the martians were the martians were the martians were the martians were the martians were the martians were the martians were the martians were the martians were the martians were the martians were the martians were the martians were the martians were the martians were the martians were the martians were the martians were the martians were the martians were the martians were the martians were the martians were the martians'"
      ]
     },
     "execution_count": 14,
     "metadata": {},
     "output_type": "execute_result"
    }
   ],
   "source": [
    "' '.join(generated_words)"
   ]
  },
  {
   "cell_type": "code",
   "execution_count": null,
   "metadata": {
    "collapsed": true
   },
   "outputs": [],
   "source": []
  }
 ],
 "metadata": {
  "kernelspec": {
   "display_name": "Python 3",
   "language": "python",
   "name": "python3"
  },
  "language_info": {
   "codemirror_mode": {
    "name": "ipython",
    "version": 3
   },
   "file_extension": ".py",
   "mimetype": "text/x-python",
   "name": "python",
   "nbconvert_exporter": "python",
   "pygments_lexer": "ipython3",
   "version": "3.5.3"
  }
 },
 "nbformat": 4,
 "nbformat_minor": 2
}
