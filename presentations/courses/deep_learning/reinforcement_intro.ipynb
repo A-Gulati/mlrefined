{
 "cells": [
  {
   "cell_type": "markdown",
   "metadata": {
    "slideshow": {
     "slide_type": "slide"
    }
   },
   "source": [
    "# EECS 395, 495\n",
    "# Deep Reinforcement Learning from Scratch \n",
    "\n",
    "## Jeremy Watt with Reza Borhani\n"
   ]
  },
  {
   "cell_type": "markdown",
   "metadata": {
    "slideshow": {
     "slide_type": "slide"
    }
   },
   "source": [
    "# About us"
   ]
  },
  {
   "cell_type": "markdown",
   "metadata": {
    "collapsed": true,
    "slideshow": {
     "slide_type": "subslide"
    }
   },
   "source": [
    "<p><img src= \"../../../mlrefined_images/presentation_images/NU_logo.png\" width=\"30%\" height=\"auto\"/></p>\n",
    "  <p>\n",
    "   &nbsp;&nbsp; - Adjunct Professors in EECS department \n",
    "   <br/>\n",
    "  <br/>\n",
    "   &nbsp;&nbsp; - where we both earned our PhDs\n",
    "  </p>"
   ]
  },
  {
   "cell_type": "markdown",
   "metadata": {
    "collapsed": true,
    "slideshow": {
     "slide_type": "subslide"
    }
   },
   "source": [
    "  <p>\n",
    "  <img src= \"../../../mlrefined_images/presentation_images/mlrefined_logo.png\" width=\"20%\" height=\"auto\"/> \n",
    "  </p>\n",
    "  <p>\n",
    "  &nbsp;&nbsp; - Authors of Machine Learning Refined (Cambridge University Press) - www.mlrefined.com\n",
    "  <br/>\n",
    "  <br/>\n",
    "  &nbsp;&nbsp; - Used in EECS 396, 496: Machine Learning: Foundations, Applications, and Algorithms\n",
    "  <br/>\n",
    "  <br/>\n",
    "  &nbsp;&nbsp; - Notes from this class based on *new* material for 2nd edition!\n",
    "\n",
    "  </p>"
   ]
  },
  {
   "cell_type": "markdown",
   "metadata": {
    "collapsed": true,
    "slideshow": {
     "slide_type": "subslide"
    }
   },
   "source": [
    "  <p>\n",
    "  <img src= \"../../../mlrefined_images/presentation_images/dg6_logo.png\" width=\"20%\" height=\"auto\"> \n",
    "  </p>\n",
    "  <p>\n",
    " &nbsp;&nbsp; - Owners of local deep learning consultancy Degree Six - www.dgsix.com\n",
    "  <br/>\n",
    "  <br/>\n",
    " &nbsp;&nbsp; - We help everyone from startups to established businesses develop AI-fueled products and build machine learning / deep learning teams\n",
    "  </p>"
   ]
  },
  {
   "cell_type": "markdown",
   "metadata": {
    "slideshow": {
     "slide_type": "slide"
    }
   },
   "source": [
    "# About the course"
   ]
  },
  {
   "cell_type": "markdown",
   "metadata": {
    "slideshow": {
     "slide_type": "subslide"
    }
   },
   "source": [
    "- "
   ]
  },
  {
   "cell_type": "markdown",
   "metadata": {
    "slideshow": {
     "slide_type": "fragment"
    }
   },
   "source": [
    "    - e.g., for general reinforcement tasks (like game AI)"
   ]
  },
  {
   "cell_type": "markdown",
   "metadata": {
    "slideshow": {
     "slide_type": "subslide"
    }
   },
   "source": [
    "<p><img src=\"../../../mlrefined_images/RL_images/looping_pacman.gif\" width=\"1400\" height=\"1400\"></p>"
   ]
  },
  {
   "cell_type": "markdown",
   "metadata": {
    "slideshow": {
     "slide_type": "subslide"
    }
   },
   "source": [
    "# What is deep learning all about?\n",
    "\n",
    "- A natural compositional way of encoding general nonlinearity for machine learning tasks\n",
    "\n",
    "    - e.g., for supervised learning, standard linear classifier is limited\n",
    "    \n",
    "    - e.g., for general reinforcement tasks (like game AI)"
   ]
  },
  {
   "cell_type": "markdown",
   "metadata": {
    "slideshow": {
     "slide_type": "fragment"
    }
   },
   "source": [
    "- natural way to leverage certain types of *structured data* "
   ]
  },
  {
   "cell_type": "markdown",
   "metadata": {
    "slideshow": {
     "slide_type": "subslide"
    }
   },
   "source": [
    "<p><img src=\"../../../mlrefined_images/presentation_images/seven.gif\" width=\"1400\" height=\"1400\"></p>"
   ]
  },
  {
   "cell_type": "markdown",
   "metadata": {
    "slideshow": {
     "slide_type": "subslide"
    }
   },
   "source": [
    "# <p><img src=\"../../../mlrefined_images/presentation_images/time.gif\" width=\"1400\" height=\"1400\"></p>"
   ]
  },
  {
   "cell_type": "markdown",
   "metadata": {
    "slideshow": {
     "slide_type": "subslide"
    }
   },
   "source": [
    "# What is deep learning all about?\n",
    "\n",
    "- A natural compositional way of encoding general nonlinearity for machine learning tasks\n",
    "\n",
    "    - e.g., for supervised learning, standard linear classifier is limited\n",
    "    \n",
    "    - e.g., for general reinforcement tasks (like game AI)\n",
    "    \n",
    "- natural way to leverage certain types of *structured data* "
   ]
  },
  {
   "cell_type": "markdown",
   "metadata": {
    "slideshow": {
     "slide_type": "fragment"
    }
   },
   "source": [
    "- because of this, provides cutting edge results for a range of applications including"
   ]
  },
  {
   "cell_type": "markdown",
   "metadata": {
    "slideshow": {
     "slide_type": "subslide"
    }
   },
   "source": [
    "**Computer vision applications like object detection**\n",
    "\n",
    "<p><img src=\"../../../mlrefined_images/presentation_images/face_detect.png\" width=\"1400\" height=\"1400\"></p>"
   ]
  },
  {
   "cell_type": "markdown",
   "metadata": {
    "slideshow": {
     "slide_type": "subslide"
    }
   },
   "source": [
    "<p><img src=\"../../../mlrefined_images/presentation_images/auto_drive.png\" width=\"1400\" height=\"1400\"></p>"
   ]
  },
  {
   "cell_type": "markdown",
   "metadata": {
    "slideshow": {
     "slide_type": "subslide"
    }
   },
   "source": [
    "**Speech recognition**\n",
    "\n",
    "<p><img src=\"../../../mlrefined_images/presentation_images/speech_recog.png\" width=\"1400\" height=\"1400\"></p>"
   ]
  },
  {
   "cell_type": "markdown",
   "metadata": {
    "slideshow": {
     "slide_type": "subslide"
    }
   },
   "source": [
    "# What 'from scratch' means"
   ]
  },
  {
   "cell_type": "markdown",
   "metadata": {
    "slideshow": {
     "slide_type": "subslide"
    }
   },
   "source": [
    "- lots of deep learning classes teach you how to **use** a deep learning library (like e.g., *Tensorflow*)"
   ]
  },
  {
   "cell_type": "markdown",
   "metadata": {
    "slideshow": {
     "slide_type": "fragment"
    }
   },
   "source": [
    "- in this class you will learn how to **build** your own deep learning library using Python: **autograd** and / or **PyTorch**"
   ]
  },
  {
   "cell_type": "markdown",
   "metadata": {
    "slideshow": {
     "slide_type": "fragment"
    }
   },
   "source": [
    "- many many reasons why learning how to do this pays off big time - e.g., then there's **no more black box**"
   ]
  },
  {
   "cell_type": "markdown",
   "metadata": {
    "slideshow": {
     "slide_type": "slide"
    }
   },
   "source": [
    "# Course topics"
   ]
  },
  {
   "cell_type": "markdown",
   "metadata": {
    "slideshow": {
     "slide_type": "subslide"
    }
   },
   "source": [
    "# Major course topics"
   ]
  },
  {
   "cell_type": "markdown",
   "metadata": {
    "slideshow": {
     "slide_type": "subslide"
    }
   },
   "source": [
    "0)  **Automatic differentiation and backpropagation**\n",
    "   - Computation graphs and efficient derivative calculating\n",
    "   - The forward mode of automatic differentiators\n",
    "   - The backward mode (backpropagation) of automatic differentiators"
   ]
  },
  {
   "cell_type": "markdown",
   "metadata": {
    "slideshow": {
     "slide_type": "subslide"
    }
   },
   "source": [
    "1)  **Nonlinear learning - foundational concepts**\n",
    "  - Universal approximators: kernels, trees, and neural networks\n",
    "  - Boosting and regularization techniques\n",
    "  - Bagging and model averaging techniques"
   ]
  },
  {
   "cell_type": "markdown",
   "metadata": {
    "slideshow": {
     "slide_type": "subslide"
    }
   },
   "source": [
    "2)  **Feedforward networks / multilayer perceptrons**\n",
    "    - General nonlinear comparison / intro to function approximation\n",
    "    - Basics of kernels (why they fail) and feedforward nets\n",
    "    - Tricks for feedforward nets: momentum, regularization for convexity, etc.,\n",
    "    - Basic concept of automatic differentiation / backprop\n",
    "    - Cross-validation basics"
   ]
  },
  {
   "cell_type": "markdown",
   "metadata": {
    "slideshow": {
     "slide_type": "subslide"
    }
   },
   "source": [
    "3)  **Kernels and trees - how do they compare?**\n",
    "    - classic kernelized models \n",
    "    - scaling issues with kernels\n",
    "    - tree-based learners: gradient boosting"
   ]
  },
  {
   "cell_type": "markdown",
   "metadata": {
    "slideshow": {
     "slide_type": "subslide"
    }
   },
   "source": [
    " 4) **Convolutional networks**\n",
    "    - Convolutions, edge detection, histogram features and pooling\n",
    "    - From fixed feature extractors to convolutional network\n",
    "    - Modern architectures\n",
    "    - Applications in e.g., computer vision, speech recognition"
   ]
  },
  {
   "cell_type": "markdown",
   "metadata": {
    "collapsed": true,
    "slideshow": {
     "slide_type": "subslide"
    }
   },
   "source": [
    "5) **Optimization tricks for deep learning**\n",
    "    - **methods:** gradient descent, stochastic descent, normalized versiions\n",
    "    - **tricks:** many e.g., feature scaling, batch normalization, early stopping / regularization, activation functions"
   ]
  },
  {
   "cell_type": "markdown",
   "metadata": {
    "collapsed": true,
    "slideshow": {
     "slide_type": "slide"
    }
   },
   "source": [
    "# Logistics"
   ]
  },
  {
   "cell_type": "markdown",
   "metadata": {
    "collapsed": true,
    "slideshow": {
     "slide_type": "subslide"
    }
   },
   "source": [
    "# Logistics"
   ]
  },
  {
   "cell_type": "markdown",
   "metadata": {
    "slideshow": {
     "slide_type": "fragment"
    }
   },
   "source": [
    "- All **slides and notes** will be posted to https://jermwatt.github.io/mlrefined\n",
    "    - pull this repo and keep it up to date "
   ]
  },
  {
   "cell_type": "markdown",
   "metadata": {
    "slideshow": {
     "slide_type": "fragment"
    }
   },
   "source": [
    "- We will use a Piazza page for class forum discussion / discussions, even if you have a personal message / question please post it here "
   ]
  },
  {
   "cell_type": "markdown",
   "metadata": {
    "slideshow": {
     "slide_type": "fragment"
    }
   },
   "source": [
    "- **Office hours:** TBA"
   ]
  },
  {
   "cell_type": "markdown",
   "metadata": {
    "slideshow": {
     "slide_type": "fragment"
    }
   },
   "source": [
    "- **Assignments:** 4 homeworks (75% of final grade), 1 final exam (25% of final grade)\n",
    "    - All assignments must be completed using Python 3 Jupyter notebooks, turned in on canvas (no hard copy)\n",
    "    - Each assignment worth 50 points, 5 points off every day late"
   ]
  },
  {
   "cell_type": "markdown",
   "metadata": {
    "slideshow": {
     "slide_type": "slide"
    }
   },
   "source": [
    "# Prerequisites"
   ]
  },
  {
   "cell_type": "markdown",
   "metadata": {
    "slideshow": {
     "slide_type": "subslide"
    }
   },
   "source": [
    "# Prerequisites"
   ]
  },
  {
   "cell_type": "markdown",
   "metadata": {
    "slideshow": {
     "slide_type": "fragment"
    }
   },
   "source": [
    "- **Understanding of basic machine learning concepts on the level of an intro class** \n",
    "    - e.g., you have heard of / used linear regression, logistic regression, the need for parameter tuning, cross-validation, etc.,"
   ]
  },
  {
   "cell_type": "markdown",
   "metadata": {
    "slideshow": {
     "slide_type": "fragment"
    }
   },
   "source": [
    "- **Expert Google-ing skills**\n",
    "    - Google / Stack overflow is the first place to go when encountering bugs"
   ]
  },
  {
   "cell_type": "markdown",
   "metadata": {
    "slideshow": {
     "slide_type": "fragment"
    }
   },
   "source": [
    "- **Basic familiarity with Linear Algebra and Calculus**\n",
    "    - We **will** not review (but review notes are on the course notes page)"
   ]
  },
  {
   "cell_type": "markdown",
   "metadata": {
    "slideshow": {
     "slide_type": "fragment"
    }
   },
   "source": [
    "- **Strong familiarity with the Python programming language**\n",
    "    - functions / classes (i.e,. basic familiarity with object oriented programming)\n",
    "    - We **will not** review, play catch-up: e.g., https://www.codecademy.com/ "
   ]
  },
  {
   "cell_type": "markdown",
   "metadata": {
    "slideshow": {
     "slide_type": "subslide"
    }
   },
   "source": [
    "- **Familiarity with using Jupyter notebook enviro for prototyping**\n",
    "    - If unfamiliar easy to catch-up: see e.g., https://www.youtube.com/watch?v=HW29067qVWk&t=639s"
   ]
  },
  {
   "cell_type": "markdown",
   "metadata": {
    "slideshow": {
     "slide_type": "fragment"
    }
   },
   "source": [
    "- **Familiarity with github**\n",
    "    - if unfamiliar, make yourself an account and easy catch-up: see e.g., https://www.youtube.com/watch?v=SWYqp7iY_Tc"
   ]
  }
 ],
 "metadata": {
  "celltoolbar": "Slideshow",
  "kernelspec": {
   "display_name": "Python 3",
   "language": "python",
   "name": "python3"
  },
  "language_info": {
   "codemirror_mode": {
    "name": "ipython",
    "version": 3
   },
   "file_extension": ".py",
   "mimetype": "text/x-python",
   "name": "python",
   "nbconvert_exporter": "python",
   "pygments_lexer": "ipython3",
   "version": "3.5.3"
  },
  "toc": {
   "colors": {
    "hover_highlight": "#DAA520",
    "navigate_num": "#000000",
    "navigate_text": "#333333",
    "running_highlight": "#FF0000",
    "selected_highlight": "#FFD700",
    "sidebar_border": "#EEEEEE",
    "wrapper_background": "#FFFFFF"
   },
   "moveMenuLeft": true,
   "nav_menu": {
    "height": "120px",
    "width": "252px"
   },
   "navigate_menu": true,
   "number_sections": false,
   "sideBar": true,
   "threshold": 4,
   "toc_cell": false,
   "toc_section_display": "block",
   "toc_window_display": false,
   "widenNotebook": false
  },
  "widgets": {
   "application/vnd.jupyter.widget-state+json": {
    "state": {},
    "version_major": 1,
    "version_minor": 0
   }
  }
 },
 "nbformat": 4,
 "nbformat_minor": 2
}
